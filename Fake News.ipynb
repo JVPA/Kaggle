{
 "cells": [
  {
   "cell_type": "markdown",
   "metadata": {},
   "source": [
    "### Import librerias necesarias"
   ]
  },
  {
   "cell_type": "code",
   "execution_count": 1,
   "metadata": {},
   "outputs": [],
   "source": [
    "import numpy as np\n",
    "import pandas as pd\n",
    "import matplotlib.pyplot as plt\n",
    "import warnings\n",
    "\n",
    "from sklearn.feature_extraction.text import TfidfVectorizer\n",
    "from sklearn.linear_model import PassiveAggressiveClassifier\n",
    "from sklearn.linear_model import LogisticRegression\n",
    "from sklearn.model_selection import train_test_split\n",
    "from sklearn.exceptions import ConvergenceWarning\n",
    "from sklearn.metrics import confusion_matrix\n",
    "\n",
    "warnings.filterwarnings('ignore'\n",
    "                        , category = ConvergenceWarning\n",
    "                        , module = 'sklearn')"
   ]
  },
  {
   "cell_type": "markdown",
   "metadata": {},
   "source": [
    "### Función creación de la matríz de confusión."
   ]
  },
  {
   "cell_type": "code",
   "execution_count": 2,
   "metadata": {},
   "outputs": [],
   "source": [
    "def matriz(y, pred, Modelo = ''):\n",
    "    mc = confusion_matrix(y, pred)\n",
    "    Total = sum(np.transpose(mc))\n",
    "    mcr = np.transpose(np.round(np.transpose(mc) / Total * 100,2))\n",
    "    \n",
    "    MC = pd.DataFrame(mc, columns=['No', 'Si'])\n",
    "    MC['index'] = ['No', 'Si']\n",
    "    MC['No'] *= -1\n",
    "\n",
    "    Grafico = MC.set_index('index').sort_values(['index']\n",
    "                                                , ascending=False).plot(kind = 'barh'\n",
    "                                                                        , stacked = True\n",
    "                                                                        , width = 0.75\n",
    "                                                                        , color=[['#c9c9c9','#e60000'],['#00c800','#c9c9c9']]\n",
    "                                                                        , legend = False\n",
    "                                                                        , figsize = (3,1.2))\n",
    "    \n",
    "    plt.gca().set_xticks([])\n",
    "    plt.gca().set_yticks([])\n",
    "    plt.gca().grid(axis='x',alpha=0)\n",
    "    plt.gca().grid(axis='y',alpha=0)\n",
    "    plt.gca().set_xlabel('{:.2f} % - '.format(np.mean(y == pred) * 100) + Modelo\n",
    "                         , fontsize = 12\n",
    "                         , alpha = 0.6)\n",
    "    plt.gca().set_ylabel('')\n",
    "    \n",
    "    [spine.set_visible(False) for spine in plt.gca().spines.values()]\n",
    "    \n",
    "    plt.show()"
   ]
  },
  {
   "cell_type": "markdown",
   "metadata": {},
   "source": [
    "### Función para ejecutar los modelos pasándolos un clasificador y devolver la matriz de confusión"
   ]
  },
  {
   "cell_type": "code",
   "execution_count": 3,
   "metadata": {},
   "outputs": [],
   "source": [
    "def Clasificar(clf):\n",
    "    clf.fit(XE, ye)\n",
    "\n",
    "    pred = clf.predict(XT)\n",
    "\n",
    "    matriz(yt, pred, Modelo = 'PassiveAggressiveClassifier')\n",
    "    print(f'Accuracy sobre base test: {round(np.mean(yt == pred) * 100, 2)}%')  "
   ]
  },
  {
   "cell_type": "markdown",
   "metadata": {},
   "source": [
    "### Importación de datos\n",
    "* Datos de origen en la Url de <i><a href=\"https://www.kaggle.com/c/fake-news/data\">Kaggel</a></i>"
   ]
  },
  {
   "cell_type": "code",
   "execution_count": 4,
   "metadata": {},
   "outputs": [
    {
     "data": {
      "text/html": [
       "<div>\n",
       "<style scoped>\n",
       "    .dataframe tbody tr th:only-of-type {\n",
       "        vertical-align: middle;\n",
       "    }\n",
       "\n",
       "    .dataframe tbody tr th {\n",
       "        vertical-align: top;\n",
       "    }\n",
       "\n",
       "    .dataframe thead th {\n",
       "        text-align: right;\n",
       "    }\n",
       "</style>\n",
       "<table border=\"1\" class=\"dataframe\">\n",
       "  <thead>\n",
       "    <tr style=\"text-align: right;\">\n",
       "      <th></th>\n",
       "      <th>title</th>\n",
       "      <th>author</th>\n",
       "      <th>text</th>\n",
       "      <th>label</th>\n",
       "    </tr>\n",
       "    <tr>\n",
       "      <th>id</th>\n",
       "      <th></th>\n",
       "      <th></th>\n",
       "      <th></th>\n",
       "      <th></th>\n",
       "    </tr>\n",
       "  </thead>\n",
       "  <tbody>\n",
       "    <tr>\n",
       "      <th>20386</th>\n",
       "      <td>Bob Dylan’s Nobel Prize: A Podcast Discussion ...</td>\n",
       "      <td>Jon Pareles</td>\n",
       "      <td>Listen to this week’s podcast | Subscribe: iTu...</td>\n",
       "      <td>0</td>\n",
       "    </tr>\n",
       "    <tr>\n",
       "      <th>16794</th>\n",
       "      <td>Nuclear Weapons in South Korea under Discussio...</td>\n",
       "      <td>Author</td>\n",
       "      <td>Country: South Korea In October 2016, the Pres...</td>\n",
       "      <td>1</td>\n",
       "    </tr>\n",
       "    <tr>\n",
       "      <th>5500</th>\n",
       "      <td>Solar Storm Alert</td>\n",
       "      <td>No Author</td>\n",
       "      <td>October 27, 2016 Solar winds triggered a giant...</td>\n",
       "      <td>1</td>\n",
       "    </tr>\n",
       "  </tbody>\n",
       "</table>\n",
       "</div>"
      ],
      "text/plain": [
       "                                                   title       author  \\\n",
       "id                                                                      \n",
       "20386  Bob Dylan’s Nobel Prize: A Podcast Discussion ...  Jon Pareles   \n",
       "16794  Nuclear Weapons in South Korea under Discussio...       Author   \n",
       "5500                                   Solar Storm Alert    No Author   \n",
       "\n",
       "                                                    text  label  \n",
       "id                                                               \n",
       "20386  Listen to this week’s podcast | Subscribe: iTu...      0  \n",
       "16794  Country: South Korea In October 2016, the Pres...      1  \n",
       "5500   October 27, 2016 Solar winds triggered a giant...      1  "
      ]
     },
     "execution_count": 4,
     "metadata": {},
     "output_type": "execute_result"
    }
   ],
   "source": [
    "df = (pd.read_csv('train.csv')\n",
    "      .sample(frac = 1, random_state = 0)\n",
    "      .set_index('id')\n",
    "      .fillna(' '))\n",
    "\n",
    "df.head(3)"
   ]
  },
  {
   "cell_type": "code",
   "execution_count": 5,
   "metadata": {},
   "outputs": [],
   "source": [
    "TfidfVec = TfidfVectorizer(stop_words = 'english'\n",
    "                           , max_df = 0.7)\n",
    "\n",
    "XE, XT, ye, yt = train_test_split(TfidfVec.fit_transform(df.text + ' ' + df.author + ' ' + df.title)\n",
    "                                  , df.label\n",
    "                                  , test_size = 0.75\n",
    "                                  , random_state = 0)"
   ]
  },
  {
   "cell_type": "code",
   "execution_count": 6,
   "metadata": {},
   "outputs": [
    {
     "data": {
      "image/png": "[encoded data removed]",
      "text/plain": [
       "<Figure size 216x86.4 with 1 Axes>"
      ]
     },
     "metadata": {},
     "output_type": "display_data"
    },
    {
     "name": "stdout",
     "output_type": "stream",
     "text": [
      "Accuracy sobre base test: 96.19%\n"
     ]
    }
   ],
   "source": [
    "clf = PassiveAggressiveClassifier(max_iter = 50)\n",
    "Clasificar(clf)"
   ]
  },
  {
   "cell_type": "code",
   "execution_count": 7,
   "metadata": {},
   "outputs": [
    {
     "data": {
      "image/png": "[encoded data removed]",
      "text/plain": [
       "<Figure size 216x86.4 with 1 Axes>"
      ]
     },
     "metadata": {},
     "output_type": "display_data"
    },
    {
     "name": "stdout",
     "output_type": "stream",
     "text": [
      "Accuracy sobre base test: 96.13%\n"
     ]
    }
   ],
   "source": [
    "clf = LogisticRegression(C = 1e5)\n",
    "Clasificar(clf)"
   ]
  }
 ],
 "metadata": {
  "kernelspec": {
   "display_name": "Python 3",
   "language": "python",
   "name": "python3"
  },
  "language_info": {
   "codemirror_mode": {
    "name": "ipython",
    "version": 3
   },
   "file_extension": ".py",
   "mimetype": "text/x-python",
   "name": "python",
   "nbconvert_exporter": "python",
   "pygments_lexer": "ipython3",
   "version": "3.7.2"
  },
  "varInspector": {
   "cols": {
    "lenName": 16,
    "lenType": 16,
    "lenVar": 40
   },
   "kernels_config": {
    "python": {
     "delete_cmd_postfix": "",
     "delete_cmd_prefix": "del ",
     "library": "var_list.py",
     "varRefreshCmd": "print(var_dic_list())"
    },
    "r": {
     "delete_cmd_postfix": ") ",
     "delete_cmd_prefix": "rm(",
     "library": "var_list.r",
     "varRefreshCmd": "cat(var_dic_list()) "
    }
   },
   "types_to_exclude": [
    "module",
    "function",
    "builtin_function_or_method",
    "instance",
    "_Feature"
   ],
   "window_display": false
  }
 },
 "nbformat": 4,
 "nbformat_minor": 2
}
