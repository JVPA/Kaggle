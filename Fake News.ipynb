{
 "cells": [
  {
   "cell_type": "markdown",
   "metadata": {},
   "source": [
    "### Import librerias necesarias"
   ]
  },
  {
   "cell_type": "code",
   "execution_count": 1,
   "metadata": {},
   "outputs": [],
   "source": [
    "import numpy as np\n",
    "import pandas as pd\n",
    "import matplotlib.pyplot as plt\n",
    "import warnings, re, string\n",
    "from IPython.display import display, Markdown\n",
    "\n",
    "from sklearn.linear_model import PassiveAggressiveClassifier, LogisticRegression, SGDClassifier\n",
    "from sklearn.model_selection import train_test_split, GridSearchCV, cross_val_score, KFold\n",
    "from sklearn.feature_extraction.text import TfidfVectorizer\n",
    "from sklearn.exceptions import ConvergenceWarning\n",
    "from sklearn.metrics import confusion_matrix, precision_score, r2_score, recall_score\n",
    "from sklearn.pipeline import make_pipeline \n",
    "from sklearn.svm import SVC\n",
    "\n",
    "warnings.filterwarnings('ignore'\n",
    "                        , category = ConvergenceWarning\n",
    "                        , module = 'sklearn')"
   ]
  },
  {
   "cell_type": "markdown",
   "metadata": {},
   "source": [
    "### Función creación de la matríz de confusión."
   ]
  },
  {
   "cell_type": "code",
   "execution_count": 2,
   "metadata": {},
   "outputs": [],
   "source": [
    "def matriz(y, pred, Modelo = ''):\n",
    "    mc = confusion_matrix(y, pred)\n",
    "    Total = sum(np.transpose(mc))\n",
    "    mcr = np.transpose(np.round(np.transpose(mc) / Total * 100,2))\n",
    "    MC = pd.DataFrame(mc, columns=['No', 'Si'])\n",
    "\n",
    "    MC['index'] = ['No', 'Si']\n",
    "    MC['No'] *= -1\n",
    "\n",
    "    Grafico = MC.set_index('index').sort_values(['index']\n",
    "                                                , ascending=False).plot(kind = 'barh'\n",
    "                                                                        , stacked = True\n",
    "                                                                        , width = 0.75\n",
    "                                                                        , color=[['#c9c9c9','#e60000'],['#00c800','#c9c9c9']]\n",
    "                                                                        , legend = False\n",
    "                                                                        , figsize = (3,1.2))\n",
    "    \n",
    "    plt.gca().set_xticks([])\n",
    "    plt.gca().set_yticks([])\n",
    "    \n",
    "    plt.gca().grid(axis='x',alpha=0)\n",
    "    plt.gca().grid(axis='y',alpha=0)\n",
    "    plt.gca().set_xlabel('{:.2f} % - '.format(np.mean(y == pred) * 100) + Modelo\n",
    "                         , fontsize = 12\n",
    "                         , alpha = 0.6)\n",
    "    plt.gca().set_ylabel('')\n",
    "    \n",
    "    [spine.set_visible(False) for spine in plt.gca().spines.values()]\n",
    "    \n",
    "    plt.show()"
   ]
  },
  {
   "cell_type": "code",
   "execution_count": 3,
   "metadata": {},
   "outputs": [],
   "source": [
    "def markdown(txt):\n",
    "    display(Markdown(txt))"
   ]
  },
  {
   "cell_type": "markdown",
   "metadata": {},
   "source": [
    "### Importación de datos\n",
    "* Datos de origen en la Url de <i><a href=\"https://www.kaggle.com/c/fake-news/data\">Kaggel</a></i>"
   ]
  },
  {
   "cell_type": "code",
   "execution_count": 4,
   "metadata": {},
   "outputs": [
    {
     "data": {
      "text/html": [
       "<div>\n",
       "<style scoped>\n",
       "    .dataframe tbody tr th:only-of-type {\n",
       "        vertical-align: middle;\n",
       "    }\n",
       "\n",
       "    .dataframe tbody tr th {\n",
       "        vertical-align: top;\n",
       "    }\n",
       "\n",
       "    .dataframe thead th {\n",
       "        text-align: right;\n",
       "    }\n",
       "</style>\n",
       "<table border=\"1\" class=\"dataframe\">\n",
       "  <thead>\n",
       "    <tr style=\"text-align: right;\">\n",
       "      <th></th>\n",
       "      <th>title</th>\n",
       "      <th>author</th>\n",
       "      <th>text</th>\n",
       "      <th>label</th>\n",
       "    </tr>\n",
       "    <tr>\n",
       "      <th>id</th>\n",
       "      <th></th>\n",
       "      <th></th>\n",
       "      <th></th>\n",
       "      <th></th>\n",
       "    </tr>\n",
       "  </thead>\n",
       "  <tbody>\n",
       "    <tr>\n",
       "      <th>20386</th>\n",
       "      <td>Bob Dylan’s Nobel Prize: A Podcast Discussion ...</td>\n",
       "      <td>Jon Pareles</td>\n",
       "      <td>Listen to this week’s podcast | Subscribe: iTu...</td>\n",
       "      <td>0</td>\n",
       "    </tr>\n",
       "    <tr>\n",
       "      <th>16794</th>\n",
       "      <td>Nuclear Weapons in South Korea under Discussio...</td>\n",
       "      <td>Author</td>\n",
       "      <td>Country: South Korea In October 2016, the Pres...</td>\n",
       "      <td>1</td>\n",
       "    </tr>\n",
       "    <tr>\n",
       "      <th>5500</th>\n",
       "      <td>Solar Storm Alert</td>\n",
       "      <td>No Author</td>\n",
       "      <td>October 27, 2016 Solar winds triggered a giant...</td>\n",
       "      <td>1</td>\n",
       "    </tr>\n",
       "  </tbody>\n",
       "</table>\n",
       "</div>"
      ],
      "text/plain": [
       "                                                   title       author  \\\n",
       "id                                                                      \n",
       "20386  Bob Dylan’s Nobel Prize: A Podcast Discussion ...  Jon Pareles   \n",
       "16794  Nuclear Weapons in South Korea under Discussio...       Author   \n",
       "5500                                   Solar Storm Alert    No Author   \n",
       "\n",
       "                                                    text  label  \n",
       "id                                                               \n",
       "20386  Listen to this week’s podcast | Subscribe: iTu...      0  \n",
       "16794  Country: South Korea In October 2016, the Pres...      1  \n",
       "5500   October 27, 2016 Solar winds triggered a giant...      1  "
      ]
     },
     "execution_count": 4,
     "metadata": {},
     "output_type": "execute_result"
    }
   ],
   "source": [
    "df = (pd.read_csv('train.csv')\n",
    "      .fillna(' ')\n",
    "      .sample(frac = 1, random_state = 0)\n",
    "      .set_index('id'))\n",
    "\n",
    "df.head(3)"
   ]
  },
  {
   "cell_type": "markdown",
   "metadata": {},
   "source": [
    "### Configuramos modelos y preparamos Train y Test"
   ]
  },
  {
   "cell_type": "code",
   "execution_count": 5,
   "metadata": {},
   "outputs": [],
   "source": [
    "Params = {'Regresión Logística': LogisticRegression(C = 1e5\n",
    "                                                    , random_state = 0)\n",
    "           , 'Pasive Aggressive Classifier': PassiveAggressiveClassifier(max_iter = 50\n",
    "                                                                         , random_state = 0)\n",
    "           , 'SGD': SGDClassifier(max_iter = 5\n",
    "                                  , tol = None)\n",
    "           , 'SVC': SVC(kernel = 'linear'\n",
    "                        , random_state = 0\n",
    "                        , gamma = 'scale' )}\n",
    "\n",
    "XE, XT, ye, yt = train_test_split(df.title + ' ' + df.author + ' ' + df.text\n",
    "                                  , df.label\n",
    "                                  , test_size = 0.75\n",
    "                                  , random_state = 0)"
   ]
  },
  {
   "cell_type": "code",
   "execution_count": 6,
   "metadata": {},
   "outputs": [
    {
     "data": {
      "text/markdown": [
       "### Comparativa de los distintos modelos:"
      ],
      "text/plain": [
       "<IPython.core.display.Markdown object>"
      ]
     },
     "metadata": {},
     "output_type": "display_data"
    },
    {
     "data": {
      "text/markdown": [
       "* Matríz de confusión:"
      ],
      "text/plain": [
       "<IPython.core.display.Markdown object>"
      ]
     },
     "metadata": {},
     "output_type": "display_data"
    },
    {
     "data": {
      "image/png": "[encoded data removed]",
      "text/plain": [
       "<Figure size 216x86.4 with 1 Axes>"
      ]
     },
     "metadata": {},
     "output_type": "display_data"
    },
    {
     "data": {
      "text/markdown": [
       "* Precisión modelos sobre base test:"
      ],
      "text/plain": [
       "<IPython.core.display.Markdown object>"
      ]
     },
     "metadata": {},
     "output_type": "display_data"
    },
    {
     "data": {
      "text/html": [
       "<div>\n",
       "<style scoped>\n",
       "    .dataframe tbody tr th:only-of-type {\n",
       "        vertical-align: middle;\n",
       "    }\n",
       "\n",
       "    .dataframe tbody tr th {\n",
       "        vertical-align: top;\n",
       "    }\n",
       "\n",
       "    .dataframe thead th {\n",
       "        text-align: right;\n",
       "    }\n",
       "</style>\n",
       "<table border=\"1\" class=\"dataframe\">\n",
       "  <thead>\n",
       "    <tr style=\"text-align: right;\">\n",
       "      <th></th>\n",
       "      <th>Modelo</th>\n",
       "      <th>Precisión (accuracy)</th>\n",
       "      <th>Cross Val</th>\n",
       "      <th>Score (True)</th>\n",
       "      <th>R Cuadrado</th>\n",
       "      <th>Recall</th>\n",
       "    </tr>\n",
       "  </thead>\n",
       "  <tbody>\n",
       "    <tr>\n",
       "      <th>0</th>\n",
       "      <td>Regresión Logística</td>\n",
       "      <td>96.21</td>\n",
       "      <td>0.960577</td>\n",
       "      <td>96.02</td>\n",
       "      <td>0.848203</td>\n",
       "      <td>[0.96, 0.96]</td>\n",
       "    </tr>\n",
       "    <tr>\n",
       "      <th>1</th>\n",
       "      <td>SGD</td>\n",
       "      <td>96.14</td>\n",
       "      <td>0.958077</td>\n",
       "      <td>96.18</td>\n",
       "      <td>0.845639</td>\n",
       "      <td>[0.96, 0.96]</td>\n",
       "    </tr>\n",
       "    <tr>\n",
       "      <th>2</th>\n",
       "      <td>SVC</td>\n",
       "      <td>96.13</td>\n",
       "      <td>0.959808</td>\n",
       "      <td>95.94</td>\n",
       "      <td>0.845126</td>\n",
       "      <td>[0.96, 0.96]</td>\n",
       "    </tr>\n",
       "    <tr>\n",
       "      <th>3</th>\n",
       "      <td>Pasive Aggressive Classifier</td>\n",
       "      <td>96.08</td>\n",
       "      <td>0.958846</td>\n",
       "      <td>96.04</td>\n",
       "      <td>0.843332</td>\n",
       "      <td>[0.96, 0.96]</td>\n",
       "    </tr>\n",
       "  </tbody>\n",
       "</table>\n",
       "</div>"
      ],
      "text/plain": [
       "                         Modelo Precisión (accuracy) Cross Val Score (True)  \\\n",
       "0           Regresión Logística                96.21  0.960577        96.02   \n",
       "1                           SGD                96.14  0.958077        96.18   \n",
       "2                           SVC                96.13  0.959808        95.94   \n",
       "3  Pasive Aggressive Classifier                96.08  0.958846        96.04   \n",
       "\n",
       "  R Cuadrado        Recall  \n",
       "0   0.848203  [0.96, 0.96]  \n",
       "1   0.845639  [0.96, 0.96]  \n",
       "2   0.845126  [0.96, 0.96]  \n",
       "3   0.843332  [0.96, 0.96]  "
      ]
     },
     "execution_count": 6,
     "metadata": {},
     "output_type": "execute_result"
    }
   ],
   "source": [
    "Result = {}\n",
    "kf = KFold(n_splits = 10)\n",
    "           \n",
    "markdown(f'### Comparativa de los distintos modelos:') \n",
    "           \n",
    "for i in Params:\n",
    "    Score = []\n",
    "    clf = make_pipeline(TfidfVectorizer(stop_words = 'english', max_df = 0.7)\n",
    "                         , Params[i])\n",
    "    \n",
    "    clf.fit(XE, ye)\n",
    "    Score.append(round(np.mean(yt == clf.predict(XT)) * 100, 2))\n",
    "    Score.append(cross_val_score(clf, XE, ye, cv=kf, scoring = 'accuracy').mean())\n",
    "    Score.append(round(precision_score(yt, clf.predict(XT), labels = [0, 1], pos_label = 1) * 100, 2))\n",
    "    Score.append(r2_score(yt, clf.predict(XT)))\n",
    "    Score.append(recall_score(yt, clf.predict(XT), average = None).round(2))\n",
    "    Result[i] = Score\n",
    "\n",
    "Result = (pd.DataFrame(Result, index=['Precisión (accuracy)'\n",
    "                                      , 'Cross Val' \n",
    "                                      , 'Score (True)'\n",
    "                                      , 'R Cuadrado'\n",
    "                                      , 'Recall'])\n",
    "          .transpose()\n",
    "          .sort_values(by = 'Precisión (accuracy)'\n",
    "                       , ascending = False)\n",
    "          .reset_index()\n",
    "          .rename(columns = {'index':'Modelo'})\n",
    "         )\n",
    "\n",
    "markdown(f'* Matríz de confusión:')\n",
    "\n",
    "Best = make_pipeline(TfidfVectorizer(stop_words = 'english', max_df = 0.7)\n",
    "                         , Params[Result['Modelo'][0]])\n",
    "\n",
    "Best.fit(XE, ye)\n",
    "\n",
    "Grafico = matriz(yt, Best.predict(XT), Result['Modelo'][0])        \n",
    "markdown(f'* Precisión modelos sobre base test:')\n",
    "\n",
    "Result"
   ]
  },
  {
   "cell_type": "markdown",
   "metadata": {},
   "source": [
    "* Importamos base test y aplicamos los cambios aplicados en el modelo."
   ]
  },
  {
   "cell_type": "code",
   "execution_count": 7,
   "metadata": {},
   "outputs": [
    {
     "data": {
      "text/html": [
       "<div>\n",
       "<style scoped>\n",
       "    .dataframe tbody tr th:only-of-type {\n",
       "        vertical-align: middle;\n",
       "    }\n",
       "\n",
       "    .dataframe tbody tr th {\n",
       "        vertical-align: top;\n",
       "    }\n",
       "\n",
       "    .dataframe thead th {\n",
       "        text-align: right;\n",
       "    }\n",
       "</style>\n",
       "<table border=\"1\" class=\"dataframe\">\n",
       "  <thead>\n",
       "    <tr style=\"text-align: right;\">\n",
       "      <th></th>\n",
       "      <th>title</th>\n",
       "      <th>author</th>\n",
       "      <th>text</th>\n",
       "    </tr>\n",
       "    <tr>\n",
       "      <th>id</th>\n",
       "      <th></th>\n",
       "      <th></th>\n",
       "      <th></th>\n",
       "    </tr>\n",
       "  </thead>\n",
       "  <tbody>\n",
       "    <tr>\n",
       "      <th>20800</th>\n",
       "      <td>Specter of Trump Loosens Tongues, if Not Purse...</td>\n",
       "      <td>David Streitfeld</td>\n",
       "      <td>PALO ALTO, Calif.  —   After years of scorning...</td>\n",
       "    </tr>\n",
       "    <tr>\n",
       "      <th>20801</th>\n",
       "      <td>Russian warships ready to strike terrorists ne...</td>\n",
       "      <td></td>\n",
       "      <td>Russian warships ready to strike terrorists ne...</td>\n",
       "    </tr>\n",
       "    <tr>\n",
       "      <th>20802</th>\n",
       "      <td>#NoDAPL: Native American Leaders Vow to Stay A...</td>\n",
       "      <td>Common Dreams</td>\n",
       "      <td>Videos #NoDAPL: Native American Leaders Vow to...</td>\n",
       "    </tr>\n",
       "  </tbody>\n",
       "</table>\n",
       "</div>"
      ],
      "text/plain": [
       "                                                   title            author  \\\n",
       "id                                                                           \n",
       "20800  Specter of Trump Loosens Tongues, if Not Purse...  David Streitfeld   \n",
       "20801  Russian warships ready to strike terrorists ne...                     \n",
       "20802  #NoDAPL: Native American Leaders Vow to Stay A...     Common Dreams   \n",
       "\n",
       "                                                    text  \n",
       "id                                                        \n",
       "20800  PALO ALTO, Calif.  —   After years of scorning...  \n",
       "20801  Russian warships ready to strike terrorists ne...  \n",
       "20802  Videos #NoDAPL: Native American Leaders Vow to...  "
      ]
     },
     "execution_count": 7,
     "metadata": {},
     "output_type": "execute_result"
    }
   ],
   "source": [
    "df = (pd.read_csv('test.csv')\n",
    "      .fillna(' ')\n",
    "      .set_index('id'))\n",
    "\n",
    "df.head(3)"
   ]
  },
  {
   "cell_type": "markdown",
   "metadata": {},
   "source": [
    "* Hago predicciones sobre la base test utilizando el modelo que mejor resultado nos ha arrojado."
   ]
  },
  {
   "cell_type": "code",
   "execution_count": 8,
   "metadata": {},
   "outputs": [],
   "source": [
    "df['label'] = Best.predict(df.title + ' ' + df.author + ' ' + df.text)"
   ]
  },
  {
   "cell_type": "markdown",
   "metadata": {},
   "source": [
    "* Exporto predicciones."
   ]
  },
  {
   "cell_type": "code",
   "execution_count": 9,
   "metadata": {},
   "outputs": [],
   "source": [
    "df.reset_index()[['id','label']].to_csv('submit.csv', index=False)"
   ]
  }
 ],
 "metadata": {
  "kernelspec": {
   "display_name": "Python 3",
   "language": "python",
   "name": "python3"
  },
  "language_info": {
   "codemirror_mode": {
    "name": "ipython",
    "version": 3
   },
   "file_extension": ".py",
   "mimetype": "text/x-python",
   "name": "python",
   "nbconvert_exporter": "python",
   "pygments_lexer": "ipython3",
   "version": "3.7.2"
  },
  "varInspector": {
   "cols": {
    "lenName": 16,
    "lenType": 16,
    "lenVar": 40
   },
   "kernels_config": {
    "python": {
     "delete_cmd_postfix": "",
     "delete_cmd_prefix": "del ",
     "library": "var_list.py",
     "varRefreshCmd": "print(var_dic_list())"
    },
    "r": {
     "delete_cmd_postfix": ") ",
     "delete_cmd_prefix": "rm(",
     "library": "var_list.r",
     "varRefreshCmd": "cat(var_dic_list()) "
    }
   },
   "types_to_exclude": [
    "module",
    "function",
    "builtin_function_or_method",
    "instance",
    "_Feature"
   ],
   "window_display": false
  }
 },
 "nbformat": 4,
 "nbformat_minor": 2
}
