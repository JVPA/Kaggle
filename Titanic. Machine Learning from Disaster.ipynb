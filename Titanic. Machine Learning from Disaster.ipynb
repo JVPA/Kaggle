{
 "cells": [
  {
   "cell_type": "markdown",
   "metadata": {},
   "source": [
    "### Importamos librerias:\n",
    "* Quitamos alertas de <i>Sklearn.</i>"
   ]
  },
  {
   "cell_type": "code",
   "execution_count": 1,
   "metadata": {},
   "outputs": [],
   "source": [
    "import numpy as np\n",
    "import pandas as pd\n",
    "import matplotlib.pyplot as plt\n",
    "import warnings, joblib\n",
    "\n",
    "from IPython.display import display, Markdown\n",
    "\n",
    "from sklearn.model_selection import train_test_split, GridSearchCV, cross_val_score, KFold\n",
    "from sklearn.metrics import confusion_matrix, precision_score, r2_score, recall_score\n",
    "from sklearn.linear_model import LogisticRegression, SGDClassifier\n",
    "from sklearn.preprocessing import StandardScaler, OneHotEncoder\n",
    "from sklearn.tree import DecisionTreeClassifier, plot_tree\n",
    "from sklearn.ensemble import RandomForestClassifier\n",
    "from sklearn.neighbors import KNeighborsClassifier\n",
    "from sklearn.exceptions import ConvergenceWarning\n",
    "from sklearn.neural_network import MLPClassifier\n",
    "from sklearn.compose import ColumnTransformer\n",
    "from sklearn.impute import SimpleImputer\n",
    "from sklearn.pipeline import Pipeline\n",
    "from sklearn.svm import SVC\n",
    "\n",
    "warnings.filterwarnings('ignore'\n",
    "                        , category = ConvergenceWarning\n",
    "                        , module = 'sklearn')"
   ]
  },
  {
   "cell_type": "markdown",
   "metadata": {},
   "source": [
    "### Funciones:"
   ]
  },
  {
   "cell_type": "code",
   "execution_count": 2,
   "metadata": {},
   "outputs": [],
   "source": [
    "def markdown(txt):\n",
    "    display(Markdown(txt))"
   ]
  },
  {
   "cell_type": "code",
   "execution_count": 3,
   "metadata": {},
   "outputs": [],
   "source": [
    "def plot(df, col):\n",
    "    df_temp = df.groupby([col], as_index = True).mean()['Survived'].sort_values(ascending = True)\n",
    "    \n",
    "    Grafico = df_temp.plot(kind = 'barh'\n",
    "                       , width = 0.5\n",
    "                       , color = plt.get_cmap('Blues')(np.linspace(start = 0.15\n",
    "                                           , stop = 0.85\n",
    "                                           , num = len(df_temp)))\n",
    "                       , stacked = True\n",
    "                       , legend = False\n",
    "                       , fontsize = 10)\n",
    "    \n",
    "    Grafico.set_xlim([0,0.85])\n",
    "    Grafico.set_ylabel('')\n",
    "    Grafico.grid(axis='x',alpha=0.25)\n",
    "    Grafico.set_xticklabels(['{:3.0f} %'.format(x * 100) for x in Grafico.get_xticks()])\n",
    "    [spine.set_visible(False) for spine in Grafico.spines.values()]\n",
    "    Grafico.spines['left'].set_visible(True)\n",
    "\n",
    "    plt.tick_params(left = False, bottom = False)\n",
    "    plt.title(col)\n",
    "    df_temp = None"
   ]
  },
  {
   "cell_type": "code",
   "execution_count": 4,
   "metadata": {},
   "outputs": [],
   "source": [
    "def matriz(y, pred, Modelo = ''):\n",
    "    mc = confusion_matrix(y, pred)\n",
    "    Total = sum(np.transpose(mc))\n",
    "    mcr = np.transpose(np.round(np.transpose(mc) / Total * 100,2))\n",
    "    MC = pd.DataFrame(mc, columns=['No', 'Si'])\n",
    "\n",
    "    MC['index'] = ['No', 'Si']\n",
    "    MC['No'] *= -1\n",
    "\n",
    "    Grafico = MC.set_index('index').sort_values(['index']\n",
    "                                                , ascending=False).plot(kind = 'barh'\n",
    "                                                                        , stacked = True\n",
    "                                                                        , width = 0.75\n",
    "                                                                        , color=[['#c9c9c9','#e60000'],['#00c800','#c9c9c9']]\n",
    "                                                                        , legend = False\n",
    "                                                                        , figsize = (3,1.2))\n",
    "    \n",
    "    plt.gca().set_xticks([])\n",
    "    plt.gca().set_yticks([])\n",
    "    \n",
    "    plt.gca().grid(axis='x',alpha=0)\n",
    "    plt.gca().grid(axis='y',alpha=0)\n",
    "    plt.gca().set_xlabel('{:.2f} % - '.format(np.mean(y == pred) * 100) + Modelo\n",
    "                         , fontsize = 12\n",
    "                         , alpha = 0.6)\n",
    "    plt.gca().set_ylabel('')\n",
    "    \n",
    "    [spine.set_visible(False) for spine in plt.gca().spines.values()]\n",
    "    \n",
    "    plt.show()"
   ]
  },
  {
   "cell_type": "markdown",
   "metadata": {},
   "source": [
    "### Importamos datos:\n",
    "* Eliminamos columnas que contienen información con poco valor predictivo.\n",
    "* Imputamos valores faltantantes en los campos <b>edad</b> (media del pasaje) y <b>puerto de embarque</b> (asignamos puerto mayoritario)."
   ]
  },
  {
   "cell_type": "code",
   "execution_count": 5,
   "metadata": {},
   "outputs": [
    {
     "data": {
      "text/html": [
       "<div>\n",
       "<style scoped>\n",
       "    .dataframe tbody tr th:only-of-type {\n",
       "        vertical-align: middle;\n",
       "    }\n",
       "\n",
       "    .dataframe tbody tr th {\n",
       "        vertical-align: top;\n",
       "    }\n",
       "\n",
       "    .dataframe thead th {\n",
       "        text-align: right;\n",
       "    }\n",
       "</style>\n",
       "<table border=\"1\" class=\"dataframe\">\n",
       "  <thead>\n",
       "    <tr style=\"text-align: right;\">\n",
       "      <th></th>\n",
       "      <th>PassengerId</th>\n",
       "      <th>Survived</th>\n",
       "      <th>Pclass</th>\n",
       "      <th>Name</th>\n",
       "      <th>Sex</th>\n",
       "      <th>Age</th>\n",
       "      <th>SibSp</th>\n",
       "      <th>Parch</th>\n",
       "      <th>Ticket</th>\n",
       "      <th>Fare</th>\n",
       "      <th>Cabin</th>\n",
       "      <th>Embarked</th>\n",
       "    </tr>\n",
       "  </thead>\n",
       "  <tbody>\n",
       "    <tr>\n",
       "      <th>495</th>\n",
       "      <td>496</td>\n",
       "      <td>0</td>\n",
       "      <td>3</td>\n",
       "      <td>Yousseff, Mr. Gerious</td>\n",
       "      <td>male</td>\n",
       "      <td>NaN</td>\n",
       "      <td>0</td>\n",
       "      <td>0</td>\n",
       "      <td>2627</td>\n",
       "      <td>14.4583</td>\n",
       "      <td>NaN</td>\n",
       "      <td>C</td>\n",
       "    </tr>\n",
       "    <tr>\n",
       "      <th>648</th>\n",
       "      <td>649</td>\n",
       "      <td>0</td>\n",
       "      <td>3</td>\n",
       "      <td>Willey, Mr. Edward</td>\n",
       "      <td>male</td>\n",
       "      <td>NaN</td>\n",
       "      <td>0</td>\n",
       "      <td>0</td>\n",
       "      <td>S.O./P.P. 751</td>\n",
       "      <td>7.5500</td>\n",
       "      <td>NaN</td>\n",
       "      <td>S</td>\n",
       "    </tr>\n",
       "    <tr>\n",
       "      <th>278</th>\n",
       "      <td>279</td>\n",
       "      <td>0</td>\n",
       "      <td>3</td>\n",
       "      <td>Rice, Master. Eric</td>\n",
       "      <td>male</td>\n",
       "      <td>7.0</td>\n",
       "      <td>4</td>\n",
       "      <td>1</td>\n",
       "      <td>382652</td>\n",
       "      <td>29.1250</td>\n",
       "      <td>NaN</td>\n",
       "      <td>Q</td>\n",
       "    </tr>\n",
       "    <tr>\n",
       "      <th>31</th>\n",
       "      <td>32</td>\n",
       "      <td>1</td>\n",
       "      <td>1</td>\n",
       "      <td>Spencer, Mrs. William Augustus (Marie Eugenie)</td>\n",
       "      <td>female</td>\n",
       "      <td>NaN</td>\n",
       "      <td>1</td>\n",
       "      <td>0</td>\n",
       "      <td>PC 17569</td>\n",
       "      <td>146.5208</td>\n",
       "      <td>B78</td>\n",
       "      <td>C</td>\n",
       "    </tr>\n",
       "    <tr>\n",
       "      <th>255</th>\n",
       "      <td>256</td>\n",
       "      <td>1</td>\n",
       "      <td>3</td>\n",
       "      <td>Touma, Mrs. Darwis (Hanne Youssef Razi)</td>\n",
       "      <td>female</td>\n",
       "      <td>29.0</td>\n",
       "      <td>0</td>\n",
       "      <td>2</td>\n",
       "      <td>2650</td>\n",
       "      <td>15.2458</td>\n",
       "      <td>NaN</td>\n",
       "      <td>C</td>\n",
       "    </tr>\n",
       "  </tbody>\n",
       "</table>\n",
       "</div>"
      ],
      "text/plain": [
       "     PassengerId  Survived  Pclass  \\\n",
       "495          496         0       3   \n",
       "648          649         0       3   \n",
       "278          279         0       3   \n",
       "31            32         1       1   \n",
       "255          256         1       3   \n",
       "\n",
       "                                               Name     Sex   Age  SibSp  \\\n",
       "495                           Yousseff, Mr. Gerious    male   NaN      0   \n",
       "648                              Willey, Mr. Edward    male   NaN      0   \n",
       "278                              Rice, Master. Eric    male   7.0      4   \n",
       "31   Spencer, Mrs. William Augustus (Marie Eugenie)  female   NaN      1   \n",
       "255         Touma, Mrs. Darwis (Hanne Youssef Razi)  female  29.0      0   \n",
       "\n",
       "     Parch         Ticket      Fare Cabin Embarked  \n",
       "495      0           2627   14.4583   NaN        C  \n",
       "648      0  S.O./P.P. 751    7.5500   NaN        S  \n",
       "278      1         382652   29.1250   NaN        Q  \n",
       "31       0       PC 17569  146.5208   B78        C  \n",
       "255      2           2650   15.2458   NaN        C  "
      ]
     },
     "execution_count": 5,
     "metadata": {},
     "output_type": "execute_result"
    }
   ],
   "source": [
    "df = (pd.read_csv('Data/train.csv'\n",
    "                  , sep = ','\n",
    "                  , header = 0)\n",
    "      .sample(frac = 1, random_state = 0)\n",
    "     )\n",
    "\n",
    "#df.fillna({'Age': df.Age.mean()\n",
    "#           , 'Embarked': df.Embarked.value_counts().index.tolist()[0]}, inplace = True)\n",
    "\n",
    "\n",
    "#df['Edad'] = df.Age.map(lambda x: 'Niños' if x <= 15 else ('Adultos' if x <= 65 else 'Ancianos'))\n",
    "#df['Precio'] = df.Fare.map(lambda x: '< 40 $' if x <= 40 else ('< 80 $' if x <= 80 else '> 100 $'))\n",
    "#df['Tamaño Familia'] = df['SibSp'] + df['Parch']\n",
    "#df = df.drop(['PassengerId','Name','Cabin','SibSp','Parch'], axis='columns')\n",
    "\n",
    "df.head()"
   ]
  },
  {
   "cell_type": "code",
   "execution_count": 6,
   "metadata": {},
   "outputs": [
    {
     "data": {
      "text/html": [
       "<div>\n",
       "<style scoped>\n",
       "    .dataframe tbody tr th:only-of-type {\n",
       "        vertical-align: middle;\n",
       "    }\n",
       "\n",
       "    .dataframe tbody tr th {\n",
       "        vertical-align: top;\n",
       "    }\n",
       "\n",
       "    .dataframe thead th {\n",
       "        text-align: right;\n",
       "    }\n",
       "</style>\n",
       "<table border=\"1\" class=\"dataframe\">\n",
       "  <thead>\n",
       "    <tr style=\"text-align: right;\">\n",
       "      <th></th>\n",
       "      <th>PassengerId</th>\n",
       "      <th>Survived</th>\n",
       "      <th>Pclass</th>\n",
       "      <th>Age</th>\n",
       "      <th>SibSp</th>\n",
       "      <th>Parch</th>\n",
       "      <th>Fare</th>\n",
       "    </tr>\n",
       "  </thead>\n",
       "  <tbody>\n",
       "    <tr>\n",
       "      <th>count</th>\n",
       "      <td>891.000000</td>\n",
       "      <td>891.000000</td>\n",
       "      <td>891.000000</td>\n",
       "      <td>714.000000</td>\n",
       "      <td>891.000000</td>\n",
       "      <td>891.000000</td>\n",
       "      <td>891.000000</td>\n",
       "    </tr>\n",
       "    <tr>\n",
       "      <th>mean</th>\n",
       "      <td>446.000000</td>\n",
       "      <td>0.383838</td>\n",
       "      <td>2.308642</td>\n",
       "      <td>29.699118</td>\n",
       "      <td>0.523008</td>\n",
       "      <td>0.381594</td>\n",
       "      <td>32.204208</td>\n",
       "    </tr>\n",
       "    <tr>\n",
       "      <th>std</th>\n",
       "      <td>257.353842</td>\n",
       "      <td>0.486592</td>\n",
       "      <td>0.836071</td>\n",
       "      <td>14.526497</td>\n",
       "      <td>1.102743</td>\n",
       "      <td>0.806057</td>\n",
       "      <td>49.693429</td>\n",
       "    </tr>\n",
       "    <tr>\n",
       "      <th>min</th>\n",
       "      <td>1.000000</td>\n",
       "      <td>0.000000</td>\n",
       "      <td>1.000000</td>\n",
       "      <td>0.420000</td>\n",
       "      <td>0.000000</td>\n",
       "      <td>0.000000</td>\n",
       "      <td>0.000000</td>\n",
       "    </tr>\n",
       "    <tr>\n",
       "      <th>25%</th>\n",
       "      <td>223.500000</td>\n",
       "      <td>0.000000</td>\n",
       "      <td>2.000000</td>\n",
       "      <td>20.125000</td>\n",
       "      <td>0.000000</td>\n",
       "      <td>0.000000</td>\n",
       "      <td>7.910400</td>\n",
       "    </tr>\n",
       "    <tr>\n",
       "      <th>50%</th>\n",
       "      <td>446.000000</td>\n",
       "      <td>0.000000</td>\n",
       "      <td>3.000000</td>\n",
       "      <td>28.000000</td>\n",
       "      <td>0.000000</td>\n",
       "      <td>0.000000</td>\n",
       "      <td>14.454200</td>\n",
       "    </tr>\n",
       "    <tr>\n",
       "      <th>75%</th>\n",
       "      <td>668.500000</td>\n",
       "      <td>1.000000</td>\n",
       "      <td>3.000000</td>\n",
       "      <td>38.000000</td>\n",
       "      <td>1.000000</td>\n",
       "      <td>0.000000</td>\n",
       "      <td>31.000000</td>\n",
       "    </tr>\n",
       "    <tr>\n",
       "      <th>max</th>\n",
       "      <td>891.000000</td>\n",
       "      <td>1.000000</td>\n",
       "      <td>3.000000</td>\n",
       "      <td>80.000000</td>\n",
       "      <td>8.000000</td>\n",
       "      <td>6.000000</td>\n",
       "      <td>512.329200</td>\n",
       "    </tr>\n",
       "  </tbody>\n",
       "</table>\n",
       "</div>"
      ],
      "text/plain": [
       "       PassengerId    Survived      Pclass         Age       SibSp  \\\n",
       "count   891.000000  891.000000  891.000000  714.000000  891.000000   \n",
       "mean    446.000000    0.383838    2.308642   29.699118    0.523008   \n",
       "std     257.353842    0.486592    0.836071   14.526497    1.102743   \n",
       "min       1.000000    0.000000    1.000000    0.420000    0.000000   \n",
       "25%     223.500000    0.000000    2.000000   20.125000    0.000000   \n",
       "50%     446.000000    0.000000    3.000000   28.000000    0.000000   \n",
       "75%     668.500000    1.000000    3.000000   38.000000    1.000000   \n",
       "max     891.000000    1.000000    3.000000   80.000000    8.000000   \n",
       "\n",
       "            Parch        Fare  \n",
       "count  891.000000  891.000000  \n",
       "mean     0.381594   32.204208  \n",
       "std      0.806057   49.693429  \n",
       "min      0.000000    0.000000  \n",
       "25%      0.000000    7.910400  \n",
       "50%      0.000000   14.454200  \n",
       "75%      0.000000   31.000000  \n",
       "max      6.000000  512.329200  "
      ]
     },
     "execution_count": 6,
     "metadata": {},
     "output_type": "execute_result"
    }
   ],
   "source": [
    "df.describe()"
   ]
  },
  {
   "cell_type": "markdown",
   "metadata": {},
   "source": [
    "### Imputamos valores faltantes\n",
    "* Obtenemos extraemos el título del nombre y calculamos las medias de edad para cada título."
   ]
  },
  {
   "cell_type": "code",
   "execution_count": 7,
   "metadata": {},
   "outputs": [
    {
     "data": {
      "text/plain": [
       "{'Master': 4.574166666666666,\n",
       " 'Miss': 21.773972602739725,\n",
       " 'Mlle': 24.0,\n",
       " 'Mme': 24.0,\n",
       " 'Ms': 28.0,\n",
       " 'Mr': 32.368090452261306,\n",
       " 'Countess': 33.0,\n",
       " 'Mrs': 35.898148148148145,\n",
       " 'Jonkheer': 38.0,\n",
       " 'Don': 40.0,\n",
       " 'Dr': 42.0,\n",
       " 'Rev': 43.166666666666664,\n",
       " 'Lady': 48.0,\n",
       " 'Major': 48.5,\n",
       " 'Sir': 49.0,\n",
       " 'Col': 58.0,\n",
       " 'Capt': 70.0}"
      ]
     },
     "execution_count": 7,
     "metadata": {},
     "output_type": "execute_result"
    }
   ],
   "source": [
    "df['Title'] = df.Name.str.extract('([A-Za-z]+)\\.')\n",
    "\n",
    "medias = df.groupby(['Title'], as_index = True).mean()['Age'].sort_values(ascending = True).to_dict()\n",
    "medias"
   ]
  },
  {
   "cell_type": "markdown",
   "metadata": {},
   "source": [
    "* Imputamos valores faltantes en base a la media y el puerto de embarque mayoritario."
   ]
  },
  {
   "cell_type": "code",
   "execution_count": 8,
   "metadata": {},
   "outputs": [],
   "source": [
    "df.fillna({'Age': df.Title.map(medias)\n",
    "          , 'Embarked': df.Embarked.value_counts().index.tolist()[0]}, inplace = True)"
   ]
  },
  {
   "cell_type": "code",
   "execution_count": 9,
   "metadata": {},
   "outputs": [
    {
     "data": {
      "text/html": [
       "<div>\n",
       "<style scoped>\n",
       "    .dataframe tbody tr th:only-of-type {\n",
       "        vertical-align: middle;\n",
       "    }\n",
       "\n",
       "    .dataframe tbody tr th {\n",
       "        vertical-align: top;\n",
       "    }\n",
       "\n",
       "    .dataframe thead th {\n",
       "        text-align: right;\n",
       "    }\n",
       "</style>\n",
       "<table border=\"1\" class=\"dataframe\">\n",
       "  <thead>\n",
       "    <tr style=\"text-align: right;\">\n",
       "      <th></th>\n",
       "      <th>PassengerId</th>\n",
       "      <th>Survived</th>\n",
       "      <th>Pclass</th>\n",
       "      <th>Age</th>\n",
       "      <th>SibSp</th>\n",
       "      <th>Parch</th>\n",
       "      <th>Fare</th>\n",
       "    </tr>\n",
       "  </thead>\n",
       "  <tbody>\n",
       "    <tr>\n",
       "      <th>count</th>\n",
       "      <td>891.000000</td>\n",
       "      <td>891.000000</td>\n",
       "      <td>891.000000</td>\n",
       "      <td>891.000000</td>\n",
       "      <td>891.000000</td>\n",
       "      <td>891.000000</td>\n",
       "      <td>891.000000</td>\n",
       "    </tr>\n",
       "    <tr>\n",
       "      <th>mean</th>\n",
       "      <td>446.000000</td>\n",
       "      <td>0.383838</td>\n",
       "      <td>2.308642</td>\n",
       "      <td>29.754659</td>\n",
       "      <td>0.523008</td>\n",
       "      <td>0.381594</td>\n",
       "      <td>32.204208</td>\n",
       "    </tr>\n",
       "    <tr>\n",
       "      <th>std</th>\n",
       "      <td>257.353842</td>\n",
       "      <td>0.486592</td>\n",
       "      <td>0.836071</td>\n",
       "      <td>13.277179</td>\n",
       "      <td>1.102743</td>\n",
       "      <td>0.806057</td>\n",
       "      <td>49.693429</td>\n",
       "    </tr>\n",
       "    <tr>\n",
       "      <th>min</th>\n",
       "      <td>1.000000</td>\n",
       "      <td>0.000000</td>\n",
       "      <td>1.000000</td>\n",
       "      <td>0.420000</td>\n",
       "      <td>0.000000</td>\n",
       "      <td>0.000000</td>\n",
       "      <td>0.000000</td>\n",
       "    </tr>\n",
       "    <tr>\n",
       "      <th>25%</th>\n",
       "      <td>223.500000</td>\n",
       "      <td>0.000000</td>\n",
       "      <td>2.000000</td>\n",
       "      <td>21.773973</td>\n",
       "      <td>0.000000</td>\n",
       "      <td>0.000000</td>\n",
       "      <td>7.910400</td>\n",
       "    </tr>\n",
       "    <tr>\n",
       "      <th>50%</th>\n",
       "      <td>446.000000</td>\n",
       "      <td>0.000000</td>\n",
       "      <td>3.000000</td>\n",
       "      <td>30.000000</td>\n",
       "      <td>0.000000</td>\n",
       "      <td>0.000000</td>\n",
       "      <td>14.454200</td>\n",
       "    </tr>\n",
       "    <tr>\n",
       "      <th>75%</th>\n",
       "      <td>668.500000</td>\n",
       "      <td>1.000000</td>\n",
       "      <td>3.000000</td>\n",
       "      <td>35.898148</td>\n",
       "      <td>1.000000</td>\n",
       "      <td>0.000000</td>\n",
       "      <td>31.000000</td>\n",
       "    </tr>\n",
       "    <tr>\n",
       "      <th>max</th>\n",
       "      <td>891.000000</td>\n",
       "      <td>1.000000</td>\n",
       "      <td>3.000000</td>\n",
       "      <td>80.000000</td>\n",
       "      <td>8.000000</td>\n",
       "      <td>6.000000</td>\n",
       "      <td>512.329200</td>\n",
       "    </tr>\n",
       "  </tbody>\n",
       "</table>\n",
       "</div>"
      ],
      "text/plain": [
       "       PassengerId    Survived      Pclass         Age       SibSp  \\\n",
       "count   891.000000  891.000000  891.000000  891.000000  891.000000   \n",
       "mean    446.000000    0.383838    2.308642   29.754659    0.523008   \n",
       "std     257.353842    0.486592    0.836071   13.277179    1.102743   \n",
       "min       1.000000    0.000000    1.000000    0.420000    0.000000   \n",
       "25%     223.500000    0.000000    2.000000   21.773973    0.000000   \n",
       "50%     446.000000    0.000000    3.000000   30.000000    0.000000   \n",
       "75%     668.500000    1.000000    3.000000   35.898148    1.000000   \n",
       "max     891.000000    1.000000    3.000000   80.000000    8.000000   \n",
       "\n",
       "            Parch        Fare  \n",
       "count  891.000000  891.000000  \n",
       "mean     0.381594   32.204208  \n",
       "std      0.806057   49.693429  \n",
       "min      0.000000    0.000000  \n",
       "25%      0.000000    7.910400  \n",
       "50%      0.000000   14.454200  \n",
       "75%      0.000000   31.000000  \n",
       "max      6.000000  512.329200  "
      ]
     },
     "execution_count": 9,
     "metadata": {},
     "output_type": "execute_result"
    }
   ],
   "source": [
    "df.describe()"
   ]
  },
  {
   "cell_type": "markdown",
   "metadata": {},
   "source": [
    "### Gráfico de impacto por cada una de las variables:"
   ]
  },
  {
   "cell_type": "code",
   "execution_count": 10,
   "metadata": {},
   "outputs": [
    {
     "data": {
      "text/markdown": [
       "### Mortalidad en función de cada variable"
      ],
      "text/plain": [
       "<IPython.core.display.Markdown object>"
      ]
     },
     "metadata": {},
     "output_type": "display_data"
    },
    {
     "data": {
      "image/png": "[encoded data removed]",
      "text/plain": [
       "<Figure size 360x1008 with 6 Axes>"
      ]
     },
     "metadata": {},
     "output_type": "display_data"
    }
   ],
   "source": [
    "df['Edad'] = df.Age.map(lambda x: 'Niños' if x <= 15 else ('Adultos' if x <= 65 else 'Ancianos'))\n",
    "df['Precio'] = df.Fare.map(lambda x: '< 40 $' if x <= 40 else ('< 80 $' if x <= 80 else '> 100 $'))\n",
    "df['Tamaño Familia'] = df['SibSp'] + df['Parch']\n",
    "\n",
    "columnsList = ['Pclass', 'Sex', 'Tamaño Familia', 'Embarked','Edad', 'Precio']\n",
    "markdown(f'### Mortalidad en función de cada variable')\n",
    "\n",
    "Grafico = plt.figure(figsize =(5, 14)) \n",
    "Grafico.patch.set_facecolor('white')\n",
    "\n",
    "plt.subplots_adjust(hspace = .7)\n",
    "\n",
    "for i in range(1,len(columnsList) + 1):    \n",
    "    plt.subplot(len(columnsList), 1, i)\n",
    "    plot(df, columnsList[i -1])\n",
    "\n",
    "plt.show()\n",
    "plt.close()\n",
    "\n",
    "df = df.drop(['PassengerId','Name','Cabin','SibSp','Parch','Tamaño Familia','Edad','Precio'], axis='columns')"
   ]
  },
  {
   "cell_type": "markdown",
   "metadata": {},
   "source": [
    "### Dividimos los datos entre Test y Train."
   ]
  },
  {
   "cell_type": "code",
   "execution_count": 11,
   "metadata": {},
   "outputs": [],
   "source": [
    "X = df.iloc[:, 1:]\n",
    "y = df['Survived']\n",
    "\n",
    "XE, XT, ye, yt = train_test_split(X\n",
    "                                  , y\n",
    "                                  , test_size = 0.4\n",
    "                                  , random_state = 0)"
   ]
  },
  {
   "cell_type": "markdown",
   "metadata": {},
   "source": [
    "### Configuración de modelos.\n",
    "* Params con los distintos modelos que entrenamos.\n",
    "* Configuración PipeLine con la conversión de variables categóricas y StandaeScaler."
   ]
  },
  {
   "cell_type": "code",
   "execution_count": 12,
   "metadata": {},
   "outputs": [],
   "source": [
    "Params = {'Random Forest': RandomForestClassifier(n_estimators = 250\n",
    "                                                   , random_state = 0)\n",
    "           , 'SGD': SGDClassifier(max_iter = 5\n",
    "                                  , tol = None)\n",
    "           , 'Perceptron': MLPClassifier(random_state = 0)\n",
    "           , 'KNN': KNeighborsClassifier()\n",
    "           , 'Tree Classifier': DecisionTreeClassifier(criterion = 'entropy'\n",
    "                                                       , random_state = 0)\n",
    "           , 'SVC': SVC(kernel = 'linear'\n",
    "                        , random_state = 0\n",
    "                        , gamma = 'scale' )\n",
    "           , 'Regresión logística': LogisticRegression(solver = 'lbfgs'\n",
    "                                                       , multi_class = 'multinomial'\n",
    "                                                       , class_weight = 'balanced'\n",
    "                                                       , random_state = 0)}\n",
    "\n",
    "Nums = Pipeline(\n",
    "    steps = [\n",
    "        ('imputer', SimpleImputer(strategy = 'median')), \n",
    "        ('scaler' , StandardScaler())])\n",
    "\n",
    "Text = Pipeline(\n",
    "    steps = [\n",
    "        ('imputer', SimpleImputer(strategy = 'constant', fill_value = 'missing')), \n",
    "        ('onehot' , OneHotEncoder(handle_unknown = 'ignore'))])\n",
    "\n",
    "Pipe = ColumnTransformer(\n",
    "    transformers = [\n",
    "        ('num', Nums, X.select_dtypes(include = ['int64', 'float64']).columns), \n",
    "        ('cat', Text, X.select_dtypes(include = ['object']).columns)])"
   ]
  },
  {
   "cell_type": "markdown",
   "metadata": {},
   "source": [
    "### Ejecutamos los modelos y guardamos resultados.\n",
    "* Mostramos matriz de confusión del mejor resultado.\n",
    "* Exportamos el modelo .pkl."
   ]
  },
  {
   "cell_type": "code",
   "execution_count": 13,
   "metadata": {},
   "outputs": [
    {
     "data": {
      "text/markdown": [
       "### Comparativa de los distintos modelos:"
      ],
      "text/plain": [
       "<IPython.core.display.Markdown object>"
      ]
     },
     "metadata": {},
     "output_type": "display_data"
    },
    {
     "data": {
      "text/markdown": [
       "* Matríz de confusión:"
      ],
      "text/plain": [
       "<IPython.core.display.Markdown object>"
      ]
     },
     "metadata": {},
     "output_type": "display_data"
    },
    {
     "data": {
      "image/png": "[encoded data removed]",
      "text/plain": [
       "<Figure size 216x86.4 with 1 Axes>"
      ]
     },
     "metadata": {},
     "output_type": "display_data"
    },
    {
     "data": {
      "text/markdown": [
       "* Precisión modelos sobre base test:"
      ],
      "text/plain": [
       "<IPython.core.display.Markdown object>"
      ]
     },
     "metadata": {},
     "output_type": "display_data"
    },
    {
     "data": {
      "text/html": [
       "<div>\n",
       "<style scoped>\n",
       "    .dataframe tbody tr th:only-of-type {\n",
       "        vertical-align: middle;\n",
       "    }\n",
       "\n",
       "    .dataframe tbody tr th {\n",
       "        vertical-align: top;\n",
       "    }\n",
       "\n",
       "    .dataframe thead th {\n",
       "        text-align: right;\n",
       "    }\n",
       "</style>\n",
       "<table border=\"1\" class=\"dataframe\">\n",
       "  <thead>\n",
       "    <tr style=\"text-align: right;\">\n",
       "      <th></th>\n",
       "      <th>Modelo</th>\n",
       "      <th>Precisión (accuracy)</th>\n",
       "      <th>Cross Val</th>\n",
       "      <th>Score (True)</th>\n",
       "      <th>R Cuadrado</th>\n",
       "      <th>Recall</th>\n",
       "    </tr>\n",
       "  </thead>\n",
       "  <tbody>\n",
       "    <tr>\n",
       "      <th>0</th>\n",
       "      <td>Regresión logística</td>\n",
       "      <td>82.63</td>\n",
       "      <td>0.839168</td>\n",
       "      <td>80.28</td>\n",
       "      <td>0.28443</td>\n",
       "      <td>[0.87, 0.77]</td>\n",
       "    </tr>\n",
       "    <tr>\n",
       "      <th>1</th>\n",
       "      <td>KNN</td>\n",
       "      <td>81.51</td>\n",
       "      <td>0.818379</td>\n",
       "      <td>86.61</td>\n",
       "      <td>0.238265</td>\n",
       "      <td>[0.93, 0.66]</td>\n",
       "    </tr>\n",
       "    <tr>\n",
       "      <th>2</th>\n",
       "      <td>SVC</td>\n",
       "      <td>81.23</td>\n",
       "      <td>0.859783</td>\n",
       "      <td>80.45</td>\n",
       "      <td>0.226723</td>\n",
       "      <td>[0.88, 0.72]</td>\n",
       "    </tr>\n",
       "    <tr>\n",
       "      <th>3</th>\n",
       "      <td>Random Forest</td>\n",
       "      <td>80.67</td>\n",
       "      <td>0.853983</td>\n",
       "      <td>86.24</td>\n",
       "      <td>0.20364</td>\n",
       "      <td>[0.93, 0.64]</td>\n",
       "    </tr>\n",
       "    <tr>\n",
       "      <th>4</th>\n",
       "      <td>Perceptron</td>\n",
       "      <td>79.55</td>\n",
       "      <td>0.838959</td>\n",
       "      <td>76.98</td>\n",
       "      <td>0.157474</td>\n",
       "      <td>[0.85, 0.72]</td>\n",
       "    </tr>\n",
       "    <tr>\n",
       "      <th>5</th>\n",
       "      <td>Tree Classifier</td>\n",
       "      <td>79.27</td>\n",
       "      <td>0.801433</td>\n",
       "      <td>81.9</td>\n",
       "      <td>0.145933</td>\n",
       "      <td>[0.9, 0.64]</td>\n",
       "    </tr>\n",
       "    <tr>\n",
       "      <th>6</th>\n",
       "      <td>SGD</td>\n",
       "      <td>73.67</td>\n",
       "      <td>0.812683</td>\n",
       "      <td>75.47</td>\n",
       "      <td>-0.0848959</td>\n",
       "      <td>[0.88, 0.54]</td>\n",
       "    </tr>\n",
       "  </tbody>\n",
       "</table>\n",
       "</div>"
      ],
      "text/plain": [
       "                Modelo Precisión (accuracy) Cross Val Score (True) R Cuadrado  \\\n",
       "0  Regresión logística                82.63  0.839168        80.28    0.28443   \n",
       "1                  KNN                81.51  0.818379        86.61   0.238265   \n",
       "2                  SVC                81.23  0.859783        80.45   0.226723   \n",
       "3        Random Forest                80.67  0.853983        86.24    0.20364   \n",
       "4           Perceptron                79.55  0.838959        76.98   0.157474   \n",
       "5      Tree Classifier                79.27  0.801433         81.9   0.145933   \n",
       "6                  SGD                73.67  0.812683        75.47 -0.0848959   \n",
       "\n",
       "         Recall  \n",
       "0  [0.87, 0.77]  \n",
       "1  [0.93, 0.66]  \n",
       "2  [0.88, 0.72]  \n",
       "3  [0.93, 0.64]  \n",
       "4  [0.85, 0.72]  \n",
       "5   [0.9, 0.64]  \n",
       "6  [0.88, 0.54]  "
      ]
     },
     "execution_count": 13,
     "metadata": {},
     "output_type": "execute_result"
    }
   ],
   "source": [
    "Result = {}\n",
    "kf = KFold(n_splits = 10)\n",
    "           \n",
    "markdown(f'### Comparativa de los distintos modelos:') \n",
    "           \n",
    "for i in Params:\n",
    "    Score = []\n",
    "    clf = Pipeline(steps=[('Prepo', Pipe), \n",
    "                          ('Modelo', Params[i])])\n",
    "    clf.fit(XE, ye)\n",
    "    Score.append(round(np.mean(yt == clf.predict(XT)) * 100, 2))\n",
    "    Score.append(cross_val_score(clf, XE, ye, cv=kf, scoring = 'accuracy').mean())\n",
    "    Score.append(round(precision_score(yt, clf.predict(XT), labels = [0, 1], pos_label = 1) * 100, 2))\n",
    "    Score.append(r2_score(yt, clf.predict(XT)))\n",
    "    Score.append(recall_score(yt, clf.predict(XT), average = None).round(2))\n",
    "    Result[i] = Score\n",
    "\n",
    "Result = (pd.DataFrame(Result, index=['Precisión (accuracy)'\n",
    "                                      , 'Cross Val' \n",
    "                                      , 'Score (True)'\n",
    "                                      , 'R Cuadrado'\n",
    "                                      , 'Recall'])\n",
    "          .transpose()\n",
    "          .sort_values(by = 'Precisión (accuracy)'\n",
    "                       , ascending = False)\n",
    "          .reset_index()\n",
    "          .rename(columns = {'index':'Modelo'})\n",
    "         )\n",
    "\n",
    "markdown(f'* Matríz de confusión:')\n",
    "\n",
    "Best = Pipeline(steps=[('Prepo', Pipe),\n",
    "                      ('Modelo', Params[Result['Modelo'][0]])])\n",
    "\n",
    "Best.fit(XE, ye)\n",
    "\n",
    "Grafico = matriz(yt, Best.predict(XT), Result['Modelo'][0])        \n",
    "markdown(f'* Precisión modelos sobre base test:')\n",
    "\n",
    "Result"
   ]
  },
  {
   "cell_type": "markdown",
   "metadata": {},
   "source": [
    "* Importamos base test y aplicamos los cambios aplicados en el modelo."
   ]
  },
  {
   "cell_type": "code",
   "execution_count": 14,
   "metadata": {},
   "outputs": [],
   "source": [
    "df = (pd.read_csv('Data//test.csv'\n",
    "                  , sep = ','\n",
    "                  , header = 0))\n",
    "\n",
    "df['Title'] = df.Name.str.extract('([A-Za-z]+)\\.')"
   ]
  },
  {
   "cell_type": "markdown",
   "metadata": {},
   "source": [
    "* Hago predicciones sobre la base test utilizando el modelo que mejor resultado nos ha arrojado."
   ]
  },
  {
   "cell_type": "code",
   "execution_count": 15,
   "metadata": {},
   "outputs": [],
   "source": [
    "df['Survived'] = Best.predict(df[X.columns.tolist()])"
   ]
  },
  {
   "cell_type": "markdown",
   "metadata": {},
   "source": [
    "* Exporto predicciones."
   ]
  },
  {
   "cell_type": "code",
   "execution_count": 16,
   "metadata": {},
   "outputs": [],
   "source": [
    "df[['PassengerId','Survived']].to_csv('submission.csv', index=False)"
   ]
  }
 ],
 "metadata": {
  "kernelspec": {
   "display_name": "Python 3",
   "language": "python",
   "name": "python3"
  },
  "language_info": {
   "codemirror_mode": {
    "name": "ipython",
    "version": 3
   },
   "file_extension": ".py",
   "mimetype": "text/x-python",
   "name": "python",
   "nbconvert_exporter": "python",
   "pygments_lexer": "ipython3",
   "version": "3.7.2"
  },
  "varInspector": {
   "cols": {
    "lenName": 16,
    "lenType": 16,
    "lenVar": 40
   },
   "kernels_config": {
    "python": {
     "delete_cmd_postfix": "",
     "delete_cmd_prefix": "del ",
     "library": "var_list.py",
     "varRefreshCmd": "print(var_dic_list())"
    },
    "r": {
     "delete_cmd_postfix": ") ",
     "delete_cmd_prefix": "rm(",
     "library": "var_list.r",
     "varRefreshCmd": "cat(var_dic_list()) "
    }
   },
   "types_to_exclude": [
    "module",
    "function",
    "builtin_function_or_method",
    "instance",
    "_Feature"
   ],
   "window_display": false
  }
 },
 "nbformat": 4,
 "nbformat_minor": 2
}
