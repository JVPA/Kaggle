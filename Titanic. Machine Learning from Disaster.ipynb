{
 "cells": [
  {
   "cell_type": "markdown",
   "metadata": {},
   "source": [
    "### Importamos librerias:\n",
    "* Quitamos alertas de <i>Sklearn.</i>"
   ]
  },
  {
   "cell_type": "code",
   "execution_count": 1,
   "metadata": {},
   "outputs": [],
   "source": [
    "import numpy as np\n",
    "import pandas as pd\n",
    "import matplotlib.pyplot as plt\n",
    "import warnings, joblib\n",
    "\n",
    "from IPython.display import display, Markdown\n",
    "\n",
    "from sklearn.model_selection import train_test_split, GridSearchCV, cross_val_score, KFold\n",
    "from sklearn.metrics import confusion_matrix, precision_score, r2_score, recall_score, accuracy_score\n",
    "from sklearn.linear_model import LogisticRegression, SGDClassifier\n",
    "from sklearn.preprocessing import StandardScaler, OneHotEncoder\n",
    "from sklearn.tree import DecisionTreeClassifier\n",
    "from sklearn.ensemble import RandomForestClassifier, GradientBoostingClassifier, ExtraTreesClassifier\n",
    "from sklearn.neighbors import KNeighborsClassifier\n",
    "from sklearn.exceptions import ConvergenceWarning\n",
    "from sklearn.neural_network import MLPClassifier\n",
    "from sklearn.compose import ColumnTransformer\n",
    "from sklearn.impute import SimpleImputer\n",
    "from sklearn.pipeline import Pipeline\n",
    "from sklearn.svm import SVC\n",
    "\n",
    "warnings.filterwarnings('ignore'\n",
    "                        , category = ConvergenceWarning\n",
    "                        , module = 'sklearn')"
   ]
  },
  {
   "cell_type": "markdown",
   "metadata": {},
   "source": [
    "### Funciones:"
   ]
  },
  {
   "cell_type": "code",
   "execution_count": 2,
   "metadata": {},
   "outputs": [],
   "source": [
    "def markdown(txt):\n",
    "    display(Markdown(txt))"
   ]
  },
  {
   "cell_type": "code",
   "execution_count": 3,
   "metadata": {},
   "outputs": [],
   "source": [
    "def plot(df, col):\n",
    "    df_temp = df.groupby([col], as_index = True).mean()['Survived'].sort_values(ascending = True)\n",
    "    \n",
    "    Grafico = df_temp.plot(kind = 'barh'\n",
    "                       , width = 0.5\n",
    "                       , color = plt.get_cmap('Blues')(np.linspace(start = 0.15\n",
    "                                           , stop = 0.85\n",
    "                                           , num = len(df_temp)))\n",
    "                       , stacked = True\n",
    "                       , legend = False\n",
    "                       , fontsize = 10)\n",
    "    \n",
    "    Grafico.set_xlim([0, 0.85])\n",
    "    Grafico.set_ylabel('')\n",
    "    Grafico.grid(axis = 'x',alpha = 0.25)\n",
    "    Grafico.set_xticklabels(['{:3.0f} %'.format(x * 100) for x in Grafico.get_xticks()])\n",
    "    [spine.set_visible(False) for spine in Grafico.spines.values()]\n",
    "    Grafico.spines['left'].set_visible(True)\n",
    "\n",
    "    plt.tick_params(left = False, bottom = False)\n",
    "    plt.title(col)\n",
    "    df_temp = None \n",
    "    \n",
    "def plot_Result(dfa):\n",
    "    Grafico = dfa.plot(kind = 'barh'\n",
    "                     , width = 0.7\n",
    "                     , color = [plt.get_cmap('jet')(np.linspace(start = 0.9, stop = 0.2, num = len(dfa)))]\n",
    "                     , stacked = True\n",
    "                     , legend = False)\n",
    "\n",
    "    Grafico.set_xlim([round(dfa.min()[0] / 2 - 1) * 2, round(dfa.max()[0] / 2 + 1) * 2])\n",
    "    Grafico.set_ylabel('')\n",
    "    Grafico.grid(axis = 'x',alpha = 0.25)\n",
    "    Grafico.set_xticklabels(['{:3.0f} %'.format(x) for x in Grafico.get_xticks()])\n",
    "    [spine.set_visible(False) for spine in Grafico.spines.values()]\n",
    "    Grafico.spines['left'].set_visible(True)\n",
    "    plt.tick_params(left = False, bottom = False)\n",
    "    plt.title('Precisión (accuracy)')\n",
    "    plt.show()\n",
    "    plt.close()"
   ]
  },
  {
   "cell_type": "code",
   "execution_count": 4,
   "metadata": {},
   "outputs": [],
   "source": [
    "def matriz(y, pred, Modelo = ''):\n",
    "    mc = confusion_matrix(y, pred)\n",
    "    Total = sum(np.transpose(mc))\n",
    "    mcr = np.transpose(np.round(np.transpose(mc) / Total * 100,2))\n",
    "    MC = pd.DataFrame(mc, columns=['No', 'Si'])\n",
    "\n",
    "    MC['index'] = ['No', 'Si']\n",
    "    MC['No'] *= -1\n",
    "\n",
    "    Grafico = MC.set_index('index').sort_values(['index']\n",
    "                                                , ascending=False).plot(kind = 'barh'\n",
    "                                                                        , stacked = True\n",
    "                                                                        , width = 0.75\n",
    "                                                                        , color=[['#c9c9c9','#e60000'],['#00c800','#c9c9c9']]\n",
    "                                                                        , legend = False\n",
    "                                                                        , figsize = (3,1.2))\n",
    "    \n",
    "    plt.gca().set_xticks([])\n",
    "    plt.gca().set_yticks([])\n",
    "    \n",
    "    plt.gca().grid(axis='x',alpha=0)\n",
    "    plt.gca().grid(axis='y',alpha=0)\n",
    "    plt.gca().set_xlabel('{:.2f} % - '.format(np.mean(y == pred) * 100) + Modelo\n",
    "                         , fontsize = 12\n",
    "                         , alpha = 0.6)\n",
    "    plt.gca().set_ylabel('')\n",
    "    \n",
    "    [spine.set_visible(False) for spine in plt.gca().spines.values()]\n",
    "    \n",
    "    plt.show()"
   ]
  },
  {
   "cell_type": "markdown",
   "metadata": {},
   "source": [
    "### Importamos datos:\n",
    "* Eliminamos columnas que contienen información con poco valor predictivo.\n",
    "* Imputamos valores faltantantes en los campos <b>edad</b> (media del pasaje) y <b>puerto de embarque</b> (asignamos puerto mayoritario)."
   ]
  },
  {
   "cell_type": "code",
   "execution_count": 5,
   "metadata": {},
   "outputs": [
    {
     "data": {
      "text/html": [
       "<div>\n",
       "<style scoped>\n",
       "    .dataframe tbody tr th:only-of-type {\n",
       "        vertical-align: middle;\n",
       "    }\n",
       "\n",
       "    .dataframe tbody tr th {\n",
       "        vertical-align: top;\n",
       "    }\n",
       "\n",
       "    .dataframe thead th {\n",
       "        text-align: right;\n",
       "    }\n",
       "</style>\n",
       "<table border=\"1\" class=\"dataframe\">\n",
       "  <thead>\n",
       "    <tr style=\"text-align: right;\">\n",
       "      <th></th>\n",
       "      <th>PassengerId</th>\n",
       "      <th>Survived</th>\n",
       "      <th>Pclass</th>\n",
       "      <th>Age</th>\n",
       "      <th>SibSp</th>\n",
       "      <th>Parch</th>\n",
       "      <th>Fare</th>\n",
       "    </tr>\n",
       "  </thead>\n",
       "  <tbody>\n",
       "    <tr>\n",
       "      <th>count</th>\n",
       "      <td>891.000000</td>\n",
       "      <td>891.000000</td>\n",
       "      <td>891.000000</td>\n",
       "      <td>714.000000</td>\n",
       "      <td>891.000000</td>\n",
       "      <td>891.000000</td>\n",
       "      <td>891.000000</td>\n",
       "    </tr>\n",
       "    <tr>\n",
       "      <th>mean</th>\n",
       "      <td>446.000000</td>\n",
       "      <td>0.383838</td>\n",
       "      <td>2.308642</td>\n",
       "      <td>29.699118</td>\n",
       "      <td>0.523008</td>\n",
       "      <td>0.381594</td>\n",
       "      <td>32.204208</td>\n",
       "    </tr>\n",
       "    <tr>\n",
       "      <th>std</th>\n",
       "      <td>257.353842</td>\n",
       "      <td>0.486592</td>\n",
       "      <td>0.836071</td>\n",
       "      <td>14.526497</td>\n",
       "      <td>1.102743</td>\n",
       "      <td>0.806057</td>\n",
       "      <td>49.693429</td>\n",
       "    </tr>\n",
       "    <tr>\n",
       "      <th>min</th>\n",
       "      <td>1.000000</td>\n",
       "      <td>0.000000</td>\n",
       "      <td>1.000000</td>\n",
       "      <td>0.420000</td>\n",
       "      <td>0.000000</td>\n",
       "      <td>0.000000</td>\n",
       "      <td>0.000000</td>\n",
       "    </tr>\n",
       "    <tr>\n",
       "      <th>25%</th>\n",
       "      <td>223.500000</td>\n",
       "      <td>0.000000</td>\n",
       "      <td>2.000000</td>\n",
       "      <td>20.125000</td>\n",
       "      <td>0.000000</td>\n",
       "      <td>0.000000</td>\n",
       "      <td>7.910400</td>\n",
       "    </tr>\n",
       "    <tr>\n",
       "      <th>50%</th>\n",
       "      <td>446.000000</td>\n",
       "      <td>0.000000</td>\n",
       "      <td>3.000000</td>\n",
       "      <td>28.000000</td>\n",
       "      <td>0.000000</td>\n",
       "      <td>0.000000</td>\n",
       "      <td>14.454200</td>\n",
       "    </tr>\n",
       "    <tr>\n",
       "      <th>75%</th>\n",
       "      <td>668.500000</td>\n",
       "      <td>1.000000</td>\n",
       "      <td>3.000000</td>\n",
       "      <td>38.000000</td>\n",
       "      <td>1.000000</td>\n",
       "      <td>0.000000</td>\n",
       "      <td>31.000000</td>\n",
       "    </tr>\n",
       "    <tr>\n",
       "      <th>max</th>\n",
       "      <td>891.000000</td>\n",
       "      <td>1.000000</td>\n",
       "      <td>3.000000</td>\n",
       "      <td>80.000000</td>\n",
       "      <td>8.000000</td>\n",
       "      <td>6.000000</td>\n",
       "      <td>512.329200</td>\n",
       "    </tr>\n",
       "  </tbody>\n",
       "</table>\n",
       "</div>"
      ],
      "text/plain": [
       "       PassengerId    Survived      Pclass         Age       SibSp  \\\n",
       "count   891.000000  891.000000  891.000000  714.000000  891.000000   \n",
       "mean    446.000000    0.383838    2.308642   29.699118    0.523008   \n",
       "std     257.353842    0.486592    0.836071   14.526497    1.102743   \n",
       "min       1.000000    0.000000    1.000000    0.420000    0.000000   \n",
       "25%     223.500000    0.000000    2.000000   20.125000    0.000000   \n",
       "50%     446.000000    0.000000    3.000000   28.000000    0.000000   \n",
       "75%     668.500000    1.000000    3.000000   38.000000    1.000000   \n",
       "max     891.000000    1.000000    3.000000   80.000000    8.000000   \n",
       "\n",
       "            Parch        Fare  \n",
       "count  891.000000  891.000000  \n",
       "mean     0.381594   32.204208  \n",
       "std      0.806057   49.693429  \n",
       "min      0.000000    0.000000  \n",
       "25%      0.000000    7.910400  \n",
       "50%      0.000000   14.454200  \n",
       "75%      0.000000   31.000000  \n",
       "max      6.000000  512.329200  "
      ]
     },
     "execution_count": 5,
     "metadata": {},
     "output_type": "execute_result"
    }
   ],
   "source": [
    "df = (pd.read_csv('Data/train.csv'\n",
    "                  , sep = ','\n",
    "                  , header = 0)\n",
    "      .sample(frac = 1, random_state = 0))\n",
    "\n",
    "df.describe()"
   ]
  },
  {
   "cell_type": "markdown",
   "metadata": {},
   "source": [
    "### Imputamos valores faltantes\n",
    "* Obtenemos extraemos el título del nombre y calculamos las medias de edad para cada título."
   ]
  },
  {
   "cell_type": "code",
   "execution_count": 6,
   "metadata": {},
   "outputs": [
    {
     "data": {
      "text/plain": [
       "Mr        517\n",
       "Miss      182\n",
       "Mrs       125\n",
       "Master     40\n",
       "Others     27\n",
       "Name: Title, dtype: int64"
      ]
     },
     "execution_count": 6,
     "metadata": {},
     "output_type": "execute_result"
    }
   ],
   "source": [
    "df['Title'] = df.Name.str.extract('([A-Za-z]+)\\.')\n",
    "\n",
    "a = df.Title.value_counts().reset_index().transpose().to_numpy()\n",
    "df.Title = df.Title.map(lambda x: x if x in a[0][a[1] > 10].tolist()else 'Others')\n",
    "\n",
    "df.Title.value_counts()"
   ]
  },
  {
   "cell_type": "markdown",
   "metadata": {},
   "source": [
    "* Imputamos valores faltantes en base a la media y el puerto de embarque mayoritario."
   ]
  },
  {
   "cell_type": "code",
   "execution_count": 7,
   "metadata": {},
   "outputs": [
    {
     "data": {
      "text/html": [
       "<div>\n",
       "<style scoped>\n",
       "    .dataframe tbody tr th:only-of-type {\n",
       "        vertical-align: middle;\n",
       "    }\n",
       "\n",
       "    .dataframe tbody tr th {\n",
       "        vertical-align: top;\n",
       "    }\n",
       "\n",
       "    .dataframe thead th {\n",
       "        text-align: right;\n",
       "    }\n",
       "</style>\n",
       "<table border=\"1\" class=\"dataframe\">\n",
       "  <thead>\n",
       "    <tr style=\"text-align: right;\">\n",
       "      <th></th>\n",
       "      <th>PassengerId</th>\n",
       "      <th>Survived</th>\n",
       "      <th>Pclass</th>\n",
       "      <th>Name</th>\n",
       "      <th>Sex</th>\n",
       "      <th>Age</th>\n",
       "      <th>SibSp</th>\n",
       "      <th>Parch</th>\n",
       "      <th>Ticket</th>\n",
       "      <th>Fare</th>\n",
       "      <th>Cabin</th>\n",
       "      <th>Embarked</th>\n",
       "      <th>Title</th>\n",
       "    </tr>\n",
       "  </thead>\n",
       "  <tbody>\n",
       "    <tr>\n",
       "      <th>495</th>\n",
       "      <td>496</td>\n",
       "      <td>0</td>\n",
       "      <td>3</td>\n",
       "      <td>Yousseff, Mr. Gerious</td>\n",
       "      <td>male</td>\n",
       "      <td>32.368090</td>\n",
       "      <td>0</td>\n",
       "      <td>0</td>\n",
       "      <td>2627</td>\n",
       "      <td>14.4583</td>\n",
       "      <td>NaN</td>\n",
       "      <td>C</td>\n",
       "      <td>Mr</td>\n",
       "    </tr>\n",
       "    <tr>\n",
       "      <th>648</th>\n",
       "      <td>649</td>\n",
       "      <td>0</td>\n",
       "      <td>3</td>\n",
       "      <td>Willey, Mr. Edward</td>\n",
       "      <td>male</td>\n",
       "      <td>32.368090</td>\n",
       "      <td>0</td>\n",
       "      <td>0</td>\n",
       "      <td>S.O./P.P. 751</td>\n",
       "      <td>7.5500</td>\n",
       "      <td>NaN</td>\n",
       "      <td>S</td>\n",
       "      <td>Mr</td>\n",
       "    </tr>\n",
       "    <tr>\n",
       "      <th>278</th>\n",
       "      <td>279</td>\n",
       "      <td>0</td>\n",
       "      <td>3</td>\n",
       "      <td>Rice, Master. Eric</td>\n",
       "      <td>male</td>\n",
       "      <td>7.000000</td>\n",
       "      <td>4</td>\n",
       "      <td>1</td>\n",
       "      <td>382652</td>\n",
       "      <td>29.1250</td>\n",
       "      <td>NaN</td>\n",
       "      <td>Q</td>\n",
       "      <td>Master</td>\n",
       "    </tr>\n",
       "    <tr>\n",
       "      <th>31</th>\n",
       "      <td>32</td>\n",
       "      <td>1</td>\n",
       "      <td>1</td>\n",
       "      <td>Spencer, Mrs. William Augustus (Marie Eugenie)</td>\n",
       "      <td>female</td>\n",
       "      <td>35.898148</td>\n",
       "      <td>1</td>\n",
       "      <td>0</td>\n",
       "      <td>PC 17569</td>\n",
       "      <td>146.5208</td>\n",
       "      <td>B78</td>\n",
       "      <td>C</td>\n",
       "      <td>Mrs</td>\n",
       "    </tr>\n",
       "    <tr>\n",
       "      <th>255</th>\n",
       "      <td>256</td>\n",
       "      <td>1</td>\n",
       "      <td>3</td>\n",
       "      <td>Touma, Mrs. Darwis (Hanne Youssef Razi)</td>\n",
       "      <td>female</td>\n",
       "      <td>29.000000</td>\n",
       "      <td>0</td>\n",
       "      <td>2</td>\n",
       "      <td>2650</td>\n",
       "      <td>15.2458</td>\n",
       "      <td>NaN</td>\n",
       "      <td>C</td>\n",
       "      <td>Mrs</td>\n",
       "    </tr>\n",
       "  </tbody>\n",
       "</table>\n",
       "</div>"
      ],
      "text/plain": [
       "     PassengerId  Survived  Pclass  \\\n",
       "495          496         0       3   \n",
       "648          649         0       3   \n",
       "278          279         0       3   \n",
       "31            32         1       1   \n",
       "255          256         1       3   \n",
       "\n",
       "                                               Name     Sex        Age  SibSp  \\\n",
       "495                           Yousseff, Mr. Gerious    male  32.368090      0   \n",
       "648                              Willey, Mr. Edward    male  32.368090      0   \n",
       "278                              Rice, Master. Eric    male   7.000000      4   \n",
       "31   Spencer, Mrs. William Augustus (Marie Eugenie)  female  35.898148      1   \n",
       "255         Touma, Mrs. Darwis (Hanne Youssef Razi)  female  29.000000      0   \n",
       "\n",
       "     Parch         Ticket      Fare Cabin Embarked   Title  \n",
       "495      0           2627   14.4583   NaN        C      Mr  \n",
       "648      0  S.O./P.P. 751    7.5500   NaN        S      Mr  \n",
       "278      1         382652   29.1250   NaN        Q  Master  \n",
       "31       0       PC 17569  146.5208   B78        C     Mrs  \n",
       "255      2           2650   15.2458   NaN        C     Mrs  "
      ]
     },
     "execution_count": 7,
     "metadata": {},
     "output_type": "execute_result"
    }
   ],
   "source": [
    "medias = df.groupby(['Title'], as_index = True).mean()['Age'].sort_values(ascending = True).to_dict()\n",
    "\n",
    "df.fillna({'Age': df.Title.map(medias)\n",
    "          , 'Embarked': df.Embarked.value_counts().index.tolist()[0]}, inplace = True)\n",
    "\n",
    "df.head()"
   ]
  },
  {
   "cell_type": "markdown",
   "metadata": {},
   "source": [
    "### Gráfico de impacto por cada una de las variables:"
   ]
  },
  {
   "cell_type": "code",
   "execution_count": 8,
   "metadata": {},
   "outputs": [
    {
     "data": {
      "text/markdown": [
       "### Mortalidad en función de cada variable"
      ],
      "text/plain": [
       "<IPython.core.display.Markdown object>"
      ]
     },
     "metadata": {},
     "output_type": "display_data"
    },
    {
     "data": {
      "image/png": "[encoded data removed]",
      "text/plain": [
       "<Figure size 360x1008 with 7 Axes>"
      ]
     },
     "metadata": {},
     "output_type": "display_data"
    }
   ],
   "source": [
    "df['Edad'] = df.Age.map(lambda x: 'Niños' if x <= 15 else ('Adultos' if x <= 65 else 'Ancianos'))\n",
    "df['Precio'] = df.Fare.map(lambda x: '< 40 $' if x <= 40 else ('< 80 $' if x <= 80 else '> 100 $'))\n",
    "df['Familia'] = df['SibSp'] + df['Parch'] + 1\n",
    "df.Familia = df.Familia.map(lambda x: 'Singel' if x == 1 else ('Parejas' if x == 2 else ('Famila Numerosa' if x >= 5 else 'Hasta 2 hijos')))\n",
    "\n",
    "columnsList = ['Pclass', 'Sex', 'Familia', 'Embarked','Edad', 'Precio','Title']\n",
    "markdown(f'### Mortalidad en función de cada variable')\n",
    "\n",
    "Grafico = plt.figure(figsize =(5, 14)) \n",
    "Grafico.patch.set_facecolor('white')\n",
    "\n",
    "plt.subplots_adjust(hspace = .7)\n",
    "\n",
    "for i in range(1,len(columnsList) + 1):    \n",
    "    plt.subplot(len(columnsList), 1, i)\n",
    "    plot(df, columnsList[i -1])\n",
    "\n",
    "plt.show()\n",
    "plt.close()\n",
    "\n",
    "df = df.drop(['PassengerId','Name','Cabin','SibSp','Parch','Edad','Precio', 'Familia'], axis='columns')"
   ]
  },
  {
   "cell_type": "markdown",
   "metadata": {},
   "source": [
    "### Dividimos los datos entre Test y Train."
   ]
  },
  {
   "cell_type": "code",
   "execution_count": 9,
   "metadata": {},
   "outputs": [],
   "source": [
    "X = df.iloc[:, 1:]\n",
    "y = df['Survived']\n",
    "\n",
    "XE, XT, ye, yt = train_test_split(X\n",
    "                                  , y\n",
    "                                  , test_size = 0.4\n",
    "                                  , random_state = 0)"
   ]
  },
  {
   "cell_type": "markdown",
   "metadata": {},
   "source": [
    "### Configuración de modelos.\n",
    "* Params con los distintos modelos que entrenamos.\n",
    "* Configuración PipeLine con la conversión de variables categóricas y StandaeScaler."
   ]
  },
  {
   "cell_type": "code",
   "execution_count": 10,
   "metadata": {},
   "outputs": [],
   "source": [
    "Params = {'Random Forest': RandomForestClassifier(n_estimators = 250\n",
    "                                                   , random_state = 0)\n",
    "           , 'SGD': SGDClassifier(max_iter = 5\n",
    "                                  , tol = None)\n",
    "           , 'Perceptron': MLPClassifier(random_state = 0)\n",
    "           , 'KNN': KNeighborsClassifier()\n",
    "           , 'Tree Classifier': DecisionTreeClassifier(criterion = 'entropy'\n",
    "                                                       , random_state = 0)\n",
    "           , 'Estra Tree Classifier': ExtraTreesClassifier(random_state = 0)\n",
    "           , 'GBC': GradientBoostingClassifier(random_state = 0)\n",
    "           , 'SVC': SVC(kernel = 'linear'\n",
    "                        , random_state = 0\n",
    "                        , gamma = 'scale' )\n",
    "           , 'Regresión logística': LogisticRegression(solver = 'lbfgs'\n",
    "                                                       , multi_class = 'multinomial'\n",
    "                                                       , class_weight = 'balanced'\n",
    "                                                       , random_state = 0)}\n",
    "\n",
    "Nums = Pipeline(\n",
    "    steps = [\n",
    "        ('imputer', SimpleImputer(strategy = 'median')), \n",
    "        ('scaler' , StandardScaler())])\n",
    "\n",
    "Text = Pipeline(\n",
    "    steps = [\n",
    "        ('imputer', SimpleImputer(strategy = 'constant', fill_value = 'missing')), \n",
    "        ('onehot' , OneHotEncoder(handle_unknown = 'ignore'))])\n",
    "\n",
    "Pipe = ColumnTransformer(\n",
    "    transformers = [\n",
    "        ('num', Nums, X.select_dtypes(include = ['int64', 'float64']).columns), \n",
    "        ('cat', Text, X.select_dtypes(include = ['object']).columns)])"
   ]
  },
  {
   "cell_type": "markdown",
   "metadata": {},
   "source": [
    "### Ejecutamos los modelos y guardamos resultados.\n",
    "* Mostramos matriz de confusión del mejor resultado.\n",
    "* Exportamos el modelo .pkl."
   ]
  },
  {
   "cell_type": "code",
   "execution_count": 11,
   "metadata": {},
   "outputs": [
    {
     "data": {
      "text/markdown": [
       "### Comparativa de los distintos modelos:"
      ],
      "text/plain": [
       "<IPython.core.display.Markdown object>"
      ]
     },
     "metadata": {},
     "output_type": "display_data"
    },
    {
     "data": {
      "text/markdown": [
       "* Matríz de confusión:"
      ],
      "text/plain": [
       "<IPython.core.display.Markdown object>"
      ]
     },
     "metadata": {},
     "output_type": "display_data"
    },
    {
     "data": {
      "image/png": "[encoded data removed]",
      "text/plain": [
       "<Figure size 216x86.4 with 1 Axes>"
      ]
     },
     "metadata": {},
     "output_type": "display_data"
    },
    {
     "data": {
      "text/markdown": [
       "* Precisión modelos sobre base test:"
      ],
      "text/plain": [
       "<IPython.core.display.Markdown object>"
      ]
     },
     "metadata": {},
     "output_type": "display_data"
    },
    {
     "data": {
      "image/png": "[encoded data removed]",
      "text/plain": [
       "<Figure size 432x288 with 1 Axes>"
      ]
     },
     "metadata": {
      "needs_background": "light"
     },
     "output_type": "display_data"
    },
    {
     "data": {
      "text/html": [
       "<div>\n",
       "<style scoped>\n",
       "    .dataframe tbody tr th:only-of-type {\n",
       "        vertical-align: middle;\n",
       "    }\n",
       "\n",
       "    .dataframe tbody tr th {\n",
       "        vertical-align: top;\n",
       "    }\n",
       "\n",
       "    .dataframe thead th {\n",
       "        text-align: right;\n",
       "    }\n",
       "</style>\n",
       "<table border=\"1\" class=\"dataframe\">\n",
       "  <thead>\n",
       "    <tr style=\"text-align: right;\">\n",
       "      <th></th>\n",
       "      <th>Modelo</th>\n",
       "      <th>Tipo</th>\n",
       "      <th>Precisión (accuracy)</th>\n",
       "      <th>Cross Val</th>\n",
       "      <th>Score (True)</th>\n",
       "      <th>R Cuadrado</th>\n",
       "      <th>Recall</th>\n",
       "    </tr>\n",
       "  </thead>\n",
       "  <tbody>\n",
       "    <tr>\n",
       "      <th>0</th>\n",
       "      <td>Regresión logística</td>\n",
       "      <td>LogisticRegression</td>\n",
       "      <td>82.91</td>\n",
       "      <td>0.841055</td>\n",
       "      <td>80.85</td>\n",
       "      <td>0.295972</td>\n",
       "      <td>[0.87, 0.77]</td>\n",
       "    </tr>\n",
       "    <tr>\n",
       "      <th>1</th>\n",
       "      <td>KNN</td>\n",
       "      <td>KNeighborsClassifier</td>\n",
       "      <td>81.51</td>\n",
       "      <td>0.818379</td>\n",
       "      <td>86.61</td>\n",
       "      <td>0.238265</td>\n",
       "      <td>[0.93, 0.66]</td>\n",
       "    </tr>\n",
       "    <tr>\n",
       "      <th>2</th>\n",
       "      <td>SVC</td>\n",
       "      <td>SVC</td>\n",
       "      <td>81.51</td>\n",
       "      <td>0.863522</td>\n",
       "      <td>81.06</td>\n",
       "      <td>0.238265</td>\n",
       "      <td>[0.88, 0.72]</td>\n",
       "    </tr>\n",
       "    <tr>\n",
       "      <th>3</th>\n",
       "      <td>Tree Classifier</td>\n",
       "      <td>DecisionTreeClassifier</td>\n",
       "      <td>81.23</td>\n",
       "      <td>0.810727</td>\n",
       "      <td>84.03</td>\n",
       "      <td>0.226723</td>\n",
       "      <td>[0.91, 0.68]</td>\n",
       "    </tr>\n",
       "    <tr>\n",
       "      <th>4</th>\n",
       "      <td>Estra Tree Classifier</td>\n",
       "      <td>ExtraTreesClassifier</td>\n",
       "      <td>81.23</td>\n",
       "      <td>0.85587</td>\n",
       "      <td>87.16</td>\n",
       "      <td>0.226723</td>\n",
       "      <td>[0.93, 0.64]</td>\n",
       "    </tr>\n",
       "    <tr>\n",
       "      <th>5</th>\n",
       "      <td>Perceptron</td>\n",
       "      <td>MLPClassifier</td>\n",
       "      <td>80.67</td>\n",
       "      <td>0.833333</td>\n",
       "      <td>77.62</td>\n",
       "      <td>0.20364</td>\n",
       "      <td>[0.85, 0.75]</td>\n",
       "    </tr>\n",
       "    <tr>\n",
       "      <th>6</th>\n",
       "      <td>GBC</td>\n",
       "      <td>GradientBoostingClassifier</td>\n",
       "      <td>80.39</td>\n",
       "      <td>0.827848</td>\n",
       "      <td>84.82</td>\n",
       "      <td>0.192099</td>\n",
       "      <td>[0.92, 0.64]</td>\n",
       "    </tr>\n",
       "    <tr>\n",
       "      <th>7</th>\n",
       "      <td>Random Forest</td>\n",
       "      <td>RandomForestClassifier</td>\n",
       "      <td>79.83</td>\n",
       "      <td>0.85028</td>\n",
       "      <td>85.85</td>\n",
       "      <td>0.169016</td>\n",
       "      <td>[0.93, 0.61]</td>\n",
       "    </tr>\n",
       "    <tr>\n",
       "      <th>8</th>\n",
       "      <td>SGD</td>\n",
       "      <td>SGDClassifier</td>\n",
       "      <td>75.91</td>\n",
       "      <td>0.816562</td>\n",
       "      <td>69.14</td>\n",
       "      <td>0.00743567</td>\n",
       "      <td>[0.76, 0.76]</td>\n",
       "    </tr>\n",
       "  </tbody>\n",
       "</table>\n",
       "</div>"
      ],
      "text/plain": [
       "                  Modelo                        Tipo Precisión (accuracy)  \\\n",
       "0    Regresión logística          LogisticRegression                82.91   \n",
       "1                    KNN        KNeighborsClassifier                81.51   \n",
       "2                    SVC                         SVC                81.51   \n",
       "3        Tree Classifier      DecisionTreeClassifier                81.23   \n",
       "4  Estra Tree Classifier        ExtraTreesClassifier                81.23   \n",
       "5             Perceptron               MLPClassifier                80.67   \n",
       "6                    GBC  GradientBoostingClassifier                80.39   \n",
       "7          Random Forest      RandomForestClassifier                79.83   \n",
       "8                    SGD               SGDClassifier                75.91   \n",
       "\n",
       "  Cross Val Score (True)  R Cuadrado        Recall  \n",
       "0  0.841055        80.85    0.295972  [0.87, 0.77]  \n",
       "1  0.818379        86.61    0.238265  [0.93, 0.66]  \n",
       "2  0.863522        81.06    0.238265  [0.88, 0.72]  \n",
       "3  0.810727        84.03    0.226723  [0.91, 0.68]  \n",
       "4   0.85587        87.16    0.226723  [0.93, 0.64]  \n",
       "5  0.833333        77.62     0.20364  [0.85, 0.75]  \n",
       "6  0.827848        84.82    0.192099  [0.92, 0.64]  \n",
       "7   0.85028        85.85    0.169016  [0.93, 0.61]  \n",
       "8  0.816562        69.14  0.00743567  [0.76, 0.76]  "
      ]
     },
     "execution_count": 11,
     "metadata": {},
     "output_type": "execute_result"
    }
   ],
   "source": [
    "Result, classifiersList = [{},[]]\n",
    "kf = KFold(n_splits = 10)\n",
    "           \n",
    "markdown(f'### Comparativa de los distintos modelos:') \n",
    "           \n",
    "for i in Params:\n",
    "    Score, lista = [[],[]]\n",
    "    clf = Pipeline(steps=[('Prepo', Pipe), \n",
    "                          ('Modelo', Params[i])])\n",
    "    clf.fit(XE, ye)\n",
    "    Score.append(Params[i].__class__.__name__)\n",
    "    Score.append(round(np.mean(yt == clf.predict(XT)) * 100, 2))\n",
    "    Score.append(cross_val_score(clf, XE, ye, cv=kf, scoring = 'accuracy').mean())\n",
    "    Score.append(round(precision_score(yt, clf.predict(XT), labels = [0, 1], pos_label = 1) * 100, 2))\n",
    "    Score.append(r2_score(yt, clf.predict(XT)))\n",
    "    Score.append(recall_score(yt, clf.predict(XT), average = None).round(2))\n",
    "    Result[i] = Score\n",
    "\n",
    "    lista.append(i)\n",
    "    lista.append(clf)\n",
    "    classifiersList.append(tuple(lista))    \n",
    "\n",
    "Result = (pd.DataFrame(Result, index=['Tipo'\n",
    "                                      ,'Precisión (accuracy)'\n",
    "                                      , 'Cross Val' \n",
    "                                      , 'Score (True)'\n",
    "                                      , 'R Cuadrado'\n",
    "                                      , 'Recall'])\n",
    "          .transpose()\n",
    "          .sort_values(by = 'Precisión (accuracy)'\n",
    "                       , ascending = False)\n",
    "          .reset_index()\n",
    "          .rename(columns = {'index':'Modelo'}))\n",
    "\n",
    "markdown(f'* Matríz de confusión:')\n",
    "\n",
    "Best = Pipeline(steps=[('Prepo', Pipe),\n",
    "                      ('Modelo', Params[Result['Modelo'][0]])])\n",
    "\n",
    "Best.fit(XE, ye)\n",
    "\n",
    "Grafico = matriz(yt, Best.predict(XT), Result['Modelo'][0])        \n",
    "\n",
    "markdown(f'* Precisión modelos sobre base test:')\n",
    "plot_Result(Result[['Tipo','Precisión (accuracy)']].set_index('Tipo').sort_values(by = 'Precisión (accuracy)'\n",
    "                                                                          , ascending = True))\n",
    "Result"
   ]
  },
  {
   "cell_type": "code",
   "execution_count": 12,
   "metadata": {},
   "outputs": [
    {
     "data": {
      "image/png": "[encoded data removed]",
      "text/plain": [
       "<Figure size 216x86.4 with 1 Axes>"
      ]
     },
     "metadata": {},
     "output_type": "display_data"
    },
    {
     "data": {
      "text/markdown": [
       "* Recall Voting Classifier:"
      ],
      "text/plain": [
       "<IPython.core.display.Markdown object>"
      ]
     },
     "metadata": {},
     "output_type": "display_data"
    },
    {
     "data": {
      "text/plain": [
       "array([0.91, 0.68])"
      ]
     },
     "execution_count": 12,
     "metadata": {},
     "output_type": "execute_result"
    }
   ],
   "source": [
    "from sklearn.ensemble import VotingClassifier\n",
    "\n",
    "clf = VotingClassifier(classifiersList, n_jobs=-1)\n",
    "clf.fit(XE, ye)\n",
    "predictions = clf.predict(XT)\n",
    "\n",
    "Grafico = matriz(yt, predictions, 'Voting Classifier')        \n",
    "markdown(f'* Recall Voting Classifier:')\n",
    "\n",
    "recall_score(yt, predictions, average = None).round(2)"
   ]
  },
  {
   "cell_type": "markdown",
   "metadata": {},
   "source": [
    "* Importamos base test y aplicamos los cambios aplicados en el modelo."
   ]
  },
  {
   "cell_type": "code",
   "execution_count": 13,
   "metadata": {},
   "outputs": [],
   "source": [
    "df = (pd.read_csv('Data//test.csv'\n",
    "                  , sep = ','\n",
    "                  , header = 0))\n",
    "\n",
    "df['Title'] = df.Name.str.extract('([A-Za-z]+)\\.')\n",
    "df.Title = df.Title.map(lambda x: x if x in a[0][a[1] > 10].tolist() else 'Others')"
   ]
  },
  {
   "cell_type": "markdown",
   "metadata": {},
   "source": [
    "* Hacemos las predicciones sobre el nuevo dataframe que incorpora la base test con el clasificador Best ya que la media del resto de modelos está muy desbalaceada."
   ]
  },
  {
   "cell_type": "code",
   "execution_count": 14,
   "metadata": {},
   "outputs": [],
   "source": [
    "df['Survived'] = Best.predict(df[X.columns.tolist()])"
   ]
  },
  {
   "cell_type": "markdown",
   "metadata": {},
   "source": [
    "* Exporto predicciones."
   ]
  },
  {
   "cell_type": "code",
   "execution_count": 15,
   "metadata": {},
   "outputs": [],
   "source": [
    "df[['PassengerId','Survived']].to_csv('submission.csv', index=False)"
   ]
  }
 ],
 "metadata": {
  "kernelspec": {
   "display_name": "Python 3",
   "language": "python",
   "name": "python3"
  },
  "language_info": {
   "codemirror_mode": {
    "name": "ipython",
    "version": 3
   },
   "file_extension": ".py",
   "mimetype": "text/x-python",
   "name": "python",
   "nbconvert_exporter": "python",
   "pygments_lexer": "ipython3",
   "version": "3.7.2"
  },
  "varInspector": {
   "cols": {
    "lenName": 16,
    "lenType": 16,
    "lenVar": 40
   },
   "kernels_config": {
    "python": {
     "delete_cmd_postfix": "",
     "delete_cmd_prefix": "del ",
     "library": "var_list.py",
     "varRefreshCmd": "print(var_dic_list())"
    },
    "r": {
     "delete_cmd_postfix": ") ",
     "delete_cmd_prefix": "rm(",
     "library": "var_list.r",
     "varRefreshCmd": "cat(var_dic_list()) "
    }
   },
   "types_to_exclude": [
    "module",
    "function",
    "builtin_function_or_method",
    "instance",
    "_Feature"
   ],
   "window_display": false
  }
 },
 "nbformat": 4,
 "nbformat_minor": 2
}
