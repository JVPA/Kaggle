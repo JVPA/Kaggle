{
 "cells": [
  {
   "cell_type": "markdown",
   "metadata": {},
   "source": [
    "### Importamos librerias:\n",
    "* Quitamos alertas de <i>Sklearn.</i>"
   ]
  },
  {
   "cell_type": "code",
   "execution_count": 1,
   "metadata": {},
   "outputs": [],
   "source": [
    "import numpy as np\n",
    "import pandas as pd\n",
    "import matplotlib.pyplot as plt\n",
    "import warnings, joblib\n",
    "\n",
    "from IPython.display import display, Markdown\n",
    "\n",
    "from sklearn.model_selection import train_test_split, GridSearchCV\n",
    "from sklearn.preprocessing import StandardScaler, OneHotEncoder\n",
    "from sklearn.metrics import confusion_matrix, precision_score, r2_score\n",
    "from sklearn.pipeline import Pipeline\n",
    "from sklearn.linear_model import LogisticRegression, SGDClassifier\n",
    "from sklearn.svm import SVC\n",
    "from sklearn.tree import DecisionTreeClassifier\n",
    "from sklearn.neighbors import KNeighborsClassifier\n",
    "from sklearn.neural_network import MLPClassifier\n",
    "from sklearn.ensemble import RandomForestClassifier\n",
    "from sklearn.compose import ColumnTransformer\n",
    "from sklearn.impute import SimpleImputer\n",
    "from sklearn.exceptions import ConvergenceWarning\n",
    "\n",
    "warnings.filterwarnings('ignore'\n",
    "                        , category = ConvergenceWarning\n",
    "                        , module = 'sklearn')"
   ]
  },
  {
   "cell_type": "markdown",
   "metadata": {},
   "source": [
    "### Funciones:"
   ]
  },
  {
   "cell_type": "code",
   "execution_count": 2,
   "metadata": {},
   "outputs": [],
   "source": [
    "def markdown(txt):\n",
    "    display(Markdown(txt))"
   ]
  },
  {
   "cell_type": "code",
   "execution_count": 3,
   "metadata": {},
   "outputs": [],
   "source": [
    "def plot(df, col):\n",
    "    df_temp = df.groupby(col)['Survived']\n",
    "    df_temp = df_temp.sum() / df_temp.count()\n",
    "    \n",
    "    Grafico = df_temp.plot(kind = 'barh'\n",
    "                       , width = 0.5\n",
    "                       , color = plt.get_cmap('Blues')(np.linspace(start = 0.15\n",
    "                                           , stop = 0.85\n",
    "                                           , num = len(df_temp)))\n",
    "                       , stacked = True\n",
    "                       , legend = False\n",
    "                       , fontsize = 10)\n",
    "    \n",
    "    Grafico.set_xlim([0,0.85])\n",
    "    Grafico.set_ylabel('')\n",
    "    Grafico.grid(axis='x',alpha=0.25)\n",
    "    Grafico.set_xticklabels(['{:3.0f} %'.format(x * 100) for x in Grafico.get_xticks()])\n",
    "    [spine.set_visible(False) for spine in Grafico.spines.values()]\n",
    "    Grafico.spines['left'].set_visible(True)\n",
    "\n",
    "    plt.tick_params(left = False, bottom = False)\n",
    "    plt.title(col)\n",
    "    df_temp = None"
   ]
  },
  {
   "cell_type": "code",
   "execution_count": 4,
   "metadata": {},
   "outputs": [],
   "source": [
    "def matriz(y, pred, Modelo = ''):\n",
    "    mc = confusion_matrix(y, pred)\n",
    "    Total = sum(np.transpose(mc))\n",
    "    mcr = np.transpose(np.round(np.transpose(mc) / Total * 100,2))\n",
    "    MC = pd.DataFrame(mc, columns=['No', 'Si'])\n",
    "\n",
    "    MC['index'] = ['No', 'Si']\n",
    "    MC['No'] *= -1\n",
    "\n",
    "    Grafico = MC.set_index('index').sort_values(['index']\n",
    "                                                , ascending=False).plot(kind = 'barh'\n",
    "                                                                        , stacked = True\n",
    "                                                                        , width = 0.75\n",
    "                                                                        , color=[['#c9c9c9','#e60000'],['#00c800','#c9c9c9']]\n",
    "                                                                        , legend = False\n",
    "                                                                        , figsize = (3,1.2))\n",
    "    \n",
    "    plt.gca().set_xticks([])\n",
    "    plt.gca().set_yticks([])\n",
    "    \n",
    "    plt.gca().grid(axis='x',alpha=0)\n",
    "    plt.gca().grid(axis='y',alpha=0)\n",
    "    plt.gca().set_xlabel('{:.2f} % - '.format(np.mean(y == pred) * 100) + Modelo\n",
    "                         , fontsize = 12\n",
    "                         , alpha = 0.6)\n",
    "    plt.gca().set_ylabel('')\n",
    "    \n",
    "    [spine.set_visible(False) for spine in plt.gca().spines.values()]\n",
    "    \n",
    "    plt.show()"
   ]
  },
  {
   "cell_type": "markdown",
   "metadata": {},
   "source": [
    "### Importamos datos:\n",
    "* Eliminamos columnas que contienen información con poco valor predictivo.\n",
    "* Imputamos valores faltantantes en los campos <b>edad</b> (media del pasaje) y <b>puerto de embarque</b> (asignamos puerto mayoritario)."
   ]
  },
  {
   "cell_type": "code",
   "execution_count": 5,
   "metadata": {},
   "outputs": [
    {
     "data": {
      "text/html": [
       "<div>\n",
       "<style scoped>\n",
       "    .dataframe tbody tr th:only-of-type {\n",
       "        vertical-align: middle;\n",
       "    }\n",
       "\n",
       "    .dataframe tbody tr th {\n",
       "        vertical-align: top;\n",
       "    }\n",
       "\n",
       "    .dataframe thead th {\n",
       "        text-align: right;\n",
       "    }\n",
       "</style>\n",
       "<table border=\"1\" class=\"dataframe\">\n",
       "  <thead>\n",
       "    <tr style=\"text-align: right;\">\n",
       "      <th></th>\n",
       "      <th>Survived</th>\n",
       "      <th>Pclass</th>\n",
       "      <th>Sex</th>\n",
       "      <th>Age</th>\n",
       "      <th>SibSp</th>\n",
       "      <th>Parch</th>\n",
       "      <th>Ticket</th>\n",
       "      <th>Fare</th>\n",
       "      <th>Embarked</th>\n",
       "    </tr>\n",
       "  </thead>\n",
       "  <tbody>\n",
       "    <tr>\n",
       "      <th>688</th>\n",
       "      <td>0</td>\n",
       "      <td>3</td>\n",
       "      <td>male</td>\n",
       "      <td>18.000000</td>\n",
       "      <td>0</td>\n",
       "      <td>0</td>\n",
       "      <td>350036</td>\n",
       "      <td>7.7958</td>\n",
       "      <td>S</td>\n",
       "    </tr>\n",
       "    <tr>\n",
       "      <th>785</th>\n",
       "      <td>0</td>\n",
       "      <td>3</td>\n",
       "      <td>male</td>\n",
       "      <td>25.000000</td>\n",
       "      <td>0</td>\n",
       "      <td>0</td>\n",
       "      <td>374887</td>\n",
       "      <td>7.2500</td>\n",
       "      <td>S</td>\n",
       "    </tr>\n",
       "    <tr>\n",
       "      <th>445</th>\n",
       "      <td>1</td>\n",
       "      <td>1</td>\n",
       "      <td>male</td>\n",
       "      <td>4.000000</td>\n",
       "      <td>0</td>\n",
       "      <td>2</td>\n",
       "      <td>33638</td>\n",
       "      <td>81.8583</td>\n",
       "      <td>S</td>\n",
       "    </tr>\n",
       "    <tr>\n",
       "      <th>529</th>\n",
       "      <td>0</td>\n",
       "      <td>2</td>\n",
       "      <td>male</td>\n",
       "      <td>23.000000</td>\n",
       "      <td>2</td>\n",
       "      <td>1</td>\n",
       "      <td>29104</td>\n",
       "      <td>11.5000</td>\n",
       "      <td>S</td>\n",
       "    </tr>\n",
       "    <tr>\n",
       "      <th>241</th>\n",
       "      <td>1</td>\n",
       "      <td>3</td>\n",
       "      <td>female</td>\n",
       "      <td>29.699118</td>\n",
       "      <td>1</td>\n",
       "      <td>0</td>\n",
       "      <td>367230</td>\n",
       "      <td>15.5000</td>\n",
       "      <td>Q</td>\n",
       "    </tr>\n",
       "  </tbody>\n",
       "</table>\n",
       "</div>"
      ],
      "text/plain": [
       "     Survived  Pclass     Sex        Age  SibSp  Parch  Ticket     Fare  \\\n",
       "688         0       3    male  18.000000      0      0  350036   7.7958   \n",
       "785         0       3    male  25.000000      0      0  374887   7.2500   \n",
       "445         1       1    male   4.000000      0      2   33638  81.8583   \n",
       "529         0       2    male  23.000000      2      1   29104  11.5000   \n",
       "241         1       3  female  29.699118      1      0  367230  15.5000   \n",
       "\n",
       "    Embarked  \n",
       "688        S  \n",
       "785        S  \n",
       "445        S  \n",
       "529        S  \n",
       "241        Q  "
      ]
     },
     "execution_count": 5,
     "metadata": {},
     "output_type": "execute_result"
    }
   ],
   "source": [
    "df = (pd.read_csv('data/train.csv', sep = ',', header = 0)\n",
    "      .drop(['PassengerId','Name','Cabin'], axis='columns')\n",
    "      .sample(frac = 1, random_state = 12345))\n",
    "\n",
    "df.fillna({'Age': df.Age.mean()\n",
    "           , 'Embarked': df.Embarked.value_counts().index.tolist()[0]}, inplace = True)\n",
    "\n",
    "df.head()"
   ]
  },
  {
   "cell_type": "code",
   "execution_count": 6,
   "metadata": {},
   "outputs": [
    {
     "data": {
      "text/html": [
       "<div>\n",
       "<style scoped>\n",
       "    .dataframe tbody tr th:only-of-type {\n",
       "        vertical-align: middle;\n",
       "    }\n",
       "\n",
       "    .dataframe tbody tr th {\n",
       "        vertical-align: top;\n",
       "    }\n",
       "\n",
       "    .dataframe thead th {\n",
       "        text-align: right;\n",
       "    }\n",
       "</style>\n",
       "<table border=\"1\" class=\"dataframe\">\n",
       "  <thead>\n",
       "    <tr style=\"text-align: right;\">\n",
       "      <th></th>\n",
       "      <th>Survived</th>\n",
       "      <th>Pclass</th>\n",
       "      <th>Age</th>\n",
       "      <th>SibSp</th>\n",
       "      <th>Parch</th>\n",
       "      <th>Fare</th>\n",
       "    </tr>\n",
       "  </thead>\n",
       "  <tbody>\n",
       "    <tr>\n",
       "      <th>count</th>\n",
       "      <td>891.000000</td>\n",
       "      <td>891.000000</td>\n",
       "      <td>891.000000</td>\n",
       "      <td>891.000000</td>\n",
       "      <td>891.000000</td>\n",
       "      <td>891.000000</td>\n",
       "    </tr>\n",
       "    <tr>\n",
       "      <th>mean</th>\n",
       "      <td>0.383838</td>\n",
       "      <td>2.308642</td>\n",
       "      <td>29.699118</td>\n",
       "      <td>0.523008</td>\n",
       "      <td>0.381594</td>\n",
       "      <td>32.204208</td>\n",
       "    </tr>\n",
       "    <tr>\n",
       "      <th>std</th>\n",
       "      <td>0.486592</td>\n",
       "      <td>0.836071</td>\n",
       "      <td>13.002015</td>\n",
       "      <td>1.102743</td>\n",
       "      <td>0.806057</td>\n",
       "      <td>49.693429</td>\n",
       "    </tr>\n",
       "    <tr>\n",
       "      <th>min</th>\n",
       "      <td>0.000000</td>\n",
       "      <td>1.000000</td>\n",
       "      <td>0.420000</td>\n",
       "      <td>0.000000</td>\n",
       "      <td>0.000000</td>\n",
       "      <td>0.000000</td>\n",
       "    </tr>\n",
       "    <tr>\n",
       "      <th>25%</th>\n",
       "      <td>0.000000</td>\n",
       "      <td>2.000000</td>\n",
       "      <td>22.000000</td>\n",
       "      <td>0.000000</td>\n",
       "      <td>0.000000</td>\n",
       "      <td>7.910400</td>\n",
       "    </tr>\n",
       "    <tr>\n",
       "      <th>50%</th>\n",
       "      <td>0.000000</td>\n",
       "      <td>3.000000</td>\n",
       "      <td>29.699118</td>\n",
       "      <td>0.000000</td>\n",
       "      <td>0.000000</td>\n",
       "      <td>14.454200</td>\n",
       "    </tr>\n",
       "    <tr>\n",
       "      <th>75%</th>\n",
       "      <td>1.000000</td>\n",
       "      <td>3.000000</td>\n",
       "      <td>35.000000</td>\n",
       "      <td>1.000000</td>\n",
       "      <td>0.000000</td>\n",
       "      <td>31.000000</td>\n",
       "    </tr>\n",
       "    <tr>\n",
       "      <th>max</th>\n",
       "      <td>1.000000</td>\n",
       "      <td>3.000000</td>\n",
       "      <td>80.000000</td>\n",
       "      <td>8.000000</td>\n",
       "      <td>6.000000</td>\n",
       "      <td>512.329200</td>\n",
       "    </tr>\n",
       "  </tbody>\n",
       "</table>\n",
       "</div>"
      ],
      "text/plain": [
       "         Survived      Pclass         Age       SibSp       Parch        Fare\n",
       "count  891.000000  891.000000  891.000000  891.000000  891.000000  891.000000\n",
       "mean     0.383838    2.308642   29.699118    0.523008    0.381594   32.204208\n",
       "std      0.486592    0.836071   13.002015    1.102743    0.806057   49.693429\n",
       "min      0.000000    1.000000    0.420000    0.000000    0.000000    0.000000\n",
       "25%      0.000000    2.000000   22.000000    0.000000    0.000000    7.910400\n",
       "50%      0.000000    3.000000   29.699118    0.000000    0.000000   14.454200\n",
       "75%      1.000000    3.000000   35.000000    1.000000    0.000000   31.000000\n",
       "max      1.000000    3.000000   80.000000    8.000000    6.000000  512.329200"
      ]
     },
     "execution_count": 6,
     "metadata": {},
     "output_type": "execute_result"
    }
   ],
   "source": [
    "df.describe()"
   ]
  },
  {
   "cell_type": "markdown",
   "metadata": {},
   "source": [
    "### Gráfico de impacto por cada una de las variables:"
   ]
  },
  {
   "cell_type": "code",
   "execution_count": 7,
   "metadata": {},
   "outputs": [
    {
     "data": {
      "text/markdown": [
       "### Mortalidad en función de cada variable"
      ],
      "text/plain": [
       "<IPython.core.display.Markdown object>"
      ]
     },
     "metadata": {},
     "output_type": "display_data"
    },
    {
     "data": {
      "image/png": "[encoded data removed]",
      "text/plain": [
       "<Figure size 360x1080 with 7 Axes>"
      ]
     },
     "metadata": {},
     "output_type": "display_data"
    }
   ],
   "source": [
    "df['Edad'] = df.Age.map(lambda x: 'Hasta 18' if x <= 18 else ('Hasta 60' if x <= 60 else 'Mayor de 60'))\n",
    "df['Precio'] = df.Fare.map(lambda x: 'Hasta 50 $' if x <= 50 else ('Hasta 100 $' if x <= 100 else 'Mas de 100 $'))\n",
    "\n",
    "columnsList = ['Pclass', 'Sex', 'SibSp', 'Parch', 'Embarked','Edad', 'Precio']\n",
    "markdown(f'### Mortalidad en función de cada variable')\n",
    "\n",
    "Grafico = plt.figure(figsize =(5, 15)) \n",
    "Grafico.patch.set_facecolor('white')\n",
    "\n",
    "plt.subplots_adjust(hspace = .7)\n",
    "\n",
    "for i in range(1,len(columnsList) + 1):    \n",
    "    plt.subplot(len(columnsList), 1, i)\n",
    "    plot(df, columnsList[i -1])\n",
    "\n",
    "plt.show()\n",
    "plt.close()\n",
    "\n",
    "df = df.drop(['Edad','Precio'], axis='columns')"
   ]
  },
  {
   "cell_type": "markdown",
   "metadata": {},
   "source": [
    "### Dividimos los datos entre Test y Train."
   ]
  },
  {
   "cell_type": "code",
   "execution_count": 8,
   "metadata": {},
   "outputs": [],
   "source": [
    "X = df.iloc[:, 1:]\n",
    "y = df['Survived']\n",
    "\n",
    "XE, XT, ye, yt = train_test_split(X\n",
    "                                  , y\n",
    "                                  , test_size = 0.5\n",
    "                                  , random_state = 0)"
   ]
  },
  {
   "cell_type": "markdown",
   "metadata": {},
   "source": [
    "### Configuración de modelos.\n",
    "* Params con los distintos modelos que entrenamos.\n",
    "* Configuración PipeLine con la conversión de variables categóricas y StandaeScaler."
   ]
  },
  {
   "cell_type": "code",
   "execution_count": 9,
   "metadata": {},
   "outputs": [],
   "source": [
    "Params = {'Random Forest': RandomForestClassifier(n_estimators = 100\n",
    "                                                   , random_state = 0)\n",
    "           , 'SGD': SGDClassifier(max_iter=5, tol=None)\n",
    "           , 'Perceptron': MLPClassifier(random_state = 0)\n",
    "           , 'KNN': KNeighborsClassifier()\n",
    "           , 'Tree Classifier': DecisionTreeClassifier(criterion = 'entropy'\n",
    "                                                       , random_state = 0)\n",
    "           , 'SVC': SVC(kernel = 'linear'\n",
    "                        , random_state = 0\n",
    "                        , gamma = 'scale' )\n",
    "           , 'Regresión logística': LogisticRegression(solver = 'lbfgs'\n",
    "                                                       , multi_class = 'multinomial'\n",
    "                                                       , class_weight = 'balanced'\n",
    "                                                       , random_state = 0)}\n",
    "\n",
    "numeric = Pipeline(\n",
    "    steps = [\n",
    "        ('imputer', SimpleImputer(strategy = 'median')), \n",
    "        ('scaler', StandardScaler())])\n",
    "\n",
    "categorical = Pipeline(\n",
    "    steps = [\n",
    "        ('imputer', SimpleImputer(strategy = 'constant', fill_value = 'missing')), \n",
    "        ('onehot', OneHotEncoder(handle_unknown = 'ignore'))])\n",
    "\n",
    "preprocessor = ColumnTransformer(\n",
    "    transformers=[\n",
    "        ('num', numeric, X.select_dtypes(include=['int64', 'float64']).columns), \n",
    "        ('cat', categorical, X.select_dtypes(include=['object']).columns)])"
   ]
  },
  {
   "cell_type": "markdown",
   "metadata": {},
   "source": [
    "### Ejecutamos los modelos y guardamos resultados.\n",
    "* Mostramos matriz de confusión del mejor resultado.\n",
    "* Exportamos el modelo .pkl."
   ]
  },
  {
   "cell_type": "code",
   "execution_count": 10,
   "metadata": {},
   "outputs": [
    {
     "data": {
      "text/markdown": [
       "### Comparativa de los distintos modelos:"
      ],
      "text/plain": [
       "<IPython.core.display.Markdown object>"
      ]
     },
     "metadata": {},
     "output_type": "display_data"
    },
    {
     "data": {
      "text/markdown": [
       "* Matríz de confusión:"
      ],
      "text/plain": [
       "<IPython.core.display.Markdown object>"
      ]
     },
     "metadata": {},
     "output_type": "display_data"
    },
    {
     "data": {
      "image/png": "[encoded data removed]",
      "text/plain": [
       "<Figure size 216x86.4 with 1 Axes>"
      ]
     },
     "metadata": {},
     "output_type": "display_data"
    },
    {
     "data": {
      "text/markdown": [
       "* Ranking Modelos:"
      ],
      "text/plain": [
       "<IPython.core.display.Markdown object>"
      ]
     },
     "metadata": {},
     "output_type": "display_data"
    },
    {
     "data": {
      "text/html": [
       "<div>\n",
       "<style scoped>\n",
       "    .dataframe tbody tr th:only-of-type {\n",
       "        vertical-align: middle;\n",
       "    }\n",
       "\n",
       "    .dataframe tbody tr th {\n",
       "        vertical-align: top;\n",
       "    }\n",
       "\n",
       "    .dataframe thead th {\n",
       "        text-align: right;\n",
       "    }\n",
       "</style>\n",
       "<table border=\"1\" class=\"dataframe\">\n",
       "  <thead>\n",
       "    <tr style=\"text-align: right;\">\n",
       "      <th></th>\n",
       "      <th>Modelo</th>\n",
       "      <th>Precisión (accuracy)</th>\n",
       "      <th>Score (True)</th>\n",
       "      <th>R Cuadrado</th>\n",
       "    </tr>\n",
       "  </thead>\n",
       "  <tbody>\n",
       "    <tr>\n",
       "      <th>0</th>\n",
       "      <td>Perceptron</td>\n",
       "      <td>91.25 %</td>\n",
       "      <td>88.82 %</td>\n",
       "      <td>0.63</td>\n",
       "    </tr>\n",
       "    <tr>\n",
       "      <th>1</th>\n",
       "      <td>Random Forest</td>\n",
       "      <td>90.68 %</td>\n",
       "      <td>93.02 %</td>\n",
       "      <td>0.61</td>\n",
       "    </tr>\n",
       "    <tr>\n",
       "      <th>2</th>\n",
       "      <td>Tree Classifier</td>\n",
       "      <td>89.56 %</td>\n",
       "      <td>88.07 %</td>\n",
       "      <td>0.56</td>\n",
       "    </tr>\n",
       "    <tr>\n",
       "      <th>3</th>\n",
       "      <td>SVC</td>\n",
       "      <td>88.78 %</td>\n",
       "      <td>89.54 %</td>\n",
       "      <td>0.53</td>\n",
       "    </tr>\n",
       "    <tr>\n",
       "      <th>4</th>\n",
       "      <td>Regresión logística</td>\n",
       "      <td>86.31 %</td>\n",
       "      <td>81.61 %</td>\n",
       "      <td>0.42</td>\n",
       "    </tr>\n",
       "    <tr>\n",
       "      <th>5</th>\n",
       "      <td>KNN</td>\n",
       "      <td>81.48 %</td>\n",
       "      <td>79.60 %</td>\n",
       "      <td>0.22</td>\n",
       "    </tr>\n",
       "    <tr>\n",
       "      <th>6</th>\n",
       "      <td>SGD</td>\n",
       "      <td>78.45 %</td>\n",
       "      <td>75.34 %</td>\n",
       "      <td>0.09</td>\n",
       "    </tr>\n",
       "  </tbody>\n",
       "</table>\n",
       "</div>"
      ],
      "text/plain": [
       "                Modelo Precisión (accuracy) Score (True) R Cuadrado\n",
       "0           Perceptron              91.25 %      88.82 %       0.63\n",
       "1        Random Forest              90.68 %      93.02 %       0.61\n",
       "2      Tree Classifier              89.56 %      88.07 %       0.56\n",
       "3                  SVC              88.78 %      89.54 %       0.53\n",
       "4  Regresión logística              86.31 %      81.61 %       0.42\n",
       "5                  KNN              81.48 %      79.60 %       0.22\n",
       "6                  SGD              78.45 %      75.34 %       0.09"
      ]
     },
     "execution_count": 10,
     "metadata": {},
     "output_type": "execute_result"
    }
   ],
   "source": [
    "markdown(f'### Comparativa de los distintos modelos:')\n",
    "Result = {}\n",
    "\n",
    "for i in Params:\n",
    "    Score = []\n",
    "    clf = Pipeline(steps=[('preprocessor', preprocessor),\n",
    "                      ('classifier', Params[i])])\n",
    "    clf.fit(XE, ye)\n",
    "    \n",
    "    Score.append('{:.2f} %'.format(np.mean(y == clf.predict(X)) * 100))\n",
    "    Score.append('{:.2f} %'.format(precision_score(y, clf.predict(X), labels = [0, 1], pos_label = 1) * 100))\n",
    "    Score.append('%.2f' % r2_score(y, clf.predict(X)))\n",
    "    Result[i] = Score\n",
    "    \n",
    "\n",
    "Result = (pd.DataFrame(Result, index=['Precisión (accuracy)', 'Score (True)','R Cuadrado'])\n",
    "          .transpose()\n",
    "          .sort_values(by = 'Precisión (accuracy)'\n",
    "                       , ascending = False)\n",
    "          .reset_index()\n",
    "          .rename(columns = {'index':'Modelo'})\n",
    "         )\n",
    "\n",
    "markdown(f'* Matríz de confusión:')\n",
    "clf = Pipeline(steps=[('preprocessor', preprocessor),\n",
    "                      ('classifier', Params[Result['Modelo'][0]])])\n",
    "\n",
    "clf.fit(XE, ye)\n",
    "joblib.dump(clf, 'models.pkl', compress = 1)\n",
    "model = joblib.load('models.pkl')\n",
    "\n",
    "Grafico = matriz(y, model.predict(X), Result['Modelo'][0])        \n",
    "markdown(f'* Ranking Modelos:')\n",
    "\n",
    "Result"
   ]
  }
 ],
 "metadata": {
  "kernelspec": {
   "display_name": "Python 3",
   "language": "python",
   "name": "python3"
  },
  "language_info": {
   "codemirror_mode": {
    "name": "ipython",
    "version": 3
   },
   "file_extension": ".py",
   "mimetype": "text/x-python",
   "name": "python",
   "nbconvert_exporter": "python",
   "pygments_lexer": "ipython3",
   "version": "3.7.2"
  },
  "varInspector": {
   "cols": {
    "lenName": 16,
    "lenType": 16,
    "lenVar": 40
   },
   "kernels_config": {
    "python": {
     "delete_cmd_postfix": "",
     "delete_cmd_prefix": "del ",
     "library": "var_list.py",
     "varRefreshCmd": "print(var_dic_list())"
    },
    "r": {
     "delete_cmd_postfix": ") ",
     "delete_cmd_prefix": "rm(",
     "library": "var_list.r",
     "varRefreshCmd": "cat(var_dic_list()) "
    }
   },
   "types_to_exclude": [
    "module",
    "function",
    "builtin_function_or_method",
    "instance",
    "_Feature"
   ],
   "window_display": false
  }
 },
 "nbformat": 4,
 "nbformat_minor": 2
}
